{
  "nbformat": 4,
  "nbformat_minor": 0,
  "metadata": {
    "colab": {
      "name": "Bangla ULMFiT from scratch.ipynb",
      "provenance": [],
      "collapsed_sections": [],
      "include_colab_link": true
    },
    "kernelspec": {
      "name": "python3",
      "display_name": "Python 3"
    },
    "accelerator": "GPU"
  },
  "cells": [
    {
      "cell_type": "markdown",
      "metadata": {
        "id": "view-in-github",
        "colab_type": "text"
      },
      "source": [
        "<a href=\"https://colab.research.google.com/github/rajibmondal/Projects.NLP/blob/master/Bangla_ULMFiT_from_scratch.ipynb\" target=\"_parent\"><img src=\"https://colab.research.google.com/assets/colab-badge.svg\" alt=\"Open In Colab\"/></a>"
      ]
    },
    {
      "cell_type": "code",
      "metadata": {
        "id": "Xy5ZyVZl8nmO",
        "colab_type": "code",
        "colab": {}
      },
      "source": [
        "from fastai import *\n",
        "from fastai.text import *"
      ],
      "execution_count": 0,
      "outputs": []
    },
    {
      "cell_type": "code",
      "metadata": {
        "id": "7G09cuQ1MuZP",
        "colab_type": "code",
        "outputId": "5c8da579-6f06-42af-bf5f-03fe17a20793",
        "colab": {
          "base_uri": "https://localhost:8080/",
          "height": 36
        }
      },
      "source": [
        "from google.colab import drive\n",
        "drive.mount('/content/drive') #colab sourcerajueee012@gmail.com , data source and folder rajibmondal1218@gmail.com\n",
        "root_dir = '/content/drive/My Drive/Project/Vietnamese_sentiment_analysis/'\n",
        "base_dir = root_dir + 'weights/VIET_NLP'\n",
        "\n",
        "# base_dir = Path(base_dir)\n",
        "\n",
        "# # check if the dirctory exists if not make it\n",
        "# import os\n",
        "# if not (os.path.exists(base_dir)):\n",
        "#   base_dir.mkdir(parents=True, exist_ok=True)\n",
        "# base_dir\n",
        "\n",
        "# path = Path('/content/drive/My Drive/Project/Vietnamese_sentiment_analysis/')\n",
        "# path.ls()"
      ],
      "execution_count": 2,
      "outputs": [
        {
          "output_type": "stream",
          "text": [
            "Drive already mounted at /content/drive; to attempt to forcibly remount, call drive.mount(\"/content/drive\", force_remount=True).\n"
          ],
          "name": "stdout"
        }
      ]
    },
    {
      "cell_type": "code",
      "metadata": {
        "id": "Qe7RsZsR8rUf",
        "colab_type": "code",
        "colab": {}
      },
      "source": [
        "#from fastai import *\n",
        "from fastai.text import *\n",
        "folder = 'Bangla'\n",
        "\n",
        "path = Path('/content/gdrive/My Drive/NLP/NLP_DATA/Bangla_dataset')\n",
        "dest = path/folder\n",
        "dest.mkdir(parents=True, exist_ok=True)"
      ],
      "execution_count": 0,
      "outputs": []
    },
    {
      "cell_type": "code",
      "metadata": {
        "id": "kDlSfBGl9wCF",
        "colab_type": "code",
        "outputId": "255df626-e7f9-4065-ddfb-9a8964ee34cb",
        "colab": {
          "base_uri": "https://localhost:8080/",
          "height": 36
        }
      },
      "source": [
        "path.ls()"
      ],
      "execution_count": 4,
      "outputs": [
        {
          "output_type": "execute_result",
          "data": {
            "text/plain": [
              "[PosixPath('/content/gdrive/My Drive/NLP/NLP_DATA/Bangla_dataset/Bangla')]"
            ]
          },
          "metadata": {
            "tags": []
          },
          "execution_count": 4
        }
      ]
    },
    {
      "cell_type": "code",
      "metadata": {
        "id": "S-1ffiWizA0h",
        "colab_type": "code",
        "colab": {}
      },
      "source": [
        "%reload_ext autoreload\n",
        "%autoreload 2\n",
        "%matplotlib inline\n",
        "\n",
        "from fastai import *\n",
        "from fastai.text import *"
      ],
      "execution_count": 0,
      "outputs": []
    },
    {
      "cell_type": "code",
      "metadata": {
        "id": "MiDDXo0AzRjm",
        "colab_type": "code",
        "colab": {}
      },
      "source": [
        "bs = 128"
      ],
      "execution_count": 0,
      "outputs": []
    },
    {
      "cell_type": "code",
      "metadata": {
        "id": "w0cyqVaazRyV",
        "colab_type": "code",
        "colab": {}
      },
      "source": [
        "data_path = Config.data_path()"
      ],
      "execution_count": 0,
      "outputs": []
    },
    {
      "cell_type": "code",
      "metadata": {
        "id": "63QNEAHVzR19",
        "colab_type": "code",
        "colab": {}
      },
      "source": [
        "#lang = 'vi'\n",
        "#lang = 'zh'\n",
        "lang = 'bn'"
      ],
      "execution_count": 0,
      "outputs": []
    },
    {
      "cell_type": "code",
      "metadata": {
        "id": "H6a9ODXvzR5q",
        "colab_type": "code",
        "colab": {}
      },
      "source": [
        "name = f'{lang}wiki'\n",
        "path = data_path/name\n",
        "path.mkdir(exist_ok=True, parents=True)\n",
        "lm_fns = [f'{lang}_wt', f'{lang}_wt_vocab']"
      ],
      "execution_count": 0,
      "outputs": []
    },
    {
      "cell_type": "code",
      "metadata": {
        "id": "tb7sJ-1ZzSFW",
        "colab_type": "code",
        "colab": {}
      },
      "source": [
        "from fastai.basics import *\n",
        "import re\n",
        "\n",
        "\n",
        "def get_wiki(path,lang):\n",
        "    name = f'{lang}wiki'\n",
        "    if (path/name).exists():\n",
        "        print(f\"{path/name} already exists; not downloading\")\n",
        "        return\n",
        "\n",
        "    xml_fn = f\"{lang}wiki-latest-pages-articles.xml\"\n",
        "    zip_fn = f\"{xml_fn}.bz2\"\n",
        "\n",
        "    if not (path/xml_fn).exists():\n",
        "        print(\"downloading...\")\n",
        "        download_url(f'https://dumps.wikimedia.org/{name}/latest/{zip_fn}', path/zip_fn)\n",
        "        print(\"unzipping...\")\n",
        "        bunzip(path/zip_fn)\n",
        "\n",
        "    with working_directory(path):\n",
        "        if not (path/'wikiextractor').exists(): os.system('git clone https://github.com/attardi/wikiextractor.git')\n",
        "        print(\"extracting...\")\n",
        "        os.system(\"python wikiextractor/WikiExtractor.py --processes 4 --no_templates \" +\n",
        "            f\"--min_text_length 4000 --filter_disambig_pages --log_file log -b 100G -q {xml_fn}\")\n",
        "    shutil.move(str(path/'text/AA/wiki_00'), str(path/name))\n",
        "    shutil.rmtree(path/'text')\n",
        "\n",
        "\n",
        "def split_wiki(path,lang):\n",
        "    dest = path/'docs'\n",
        "    name = f'{lang}wiki'\n",
        "    if dest.exists():\n",
        "        print(f\"{dest} already exists; not splitting\")\n",
        "        return dest\n",
        "\n",
        "    dest.mkdir(exist_ok=True, parents=True)\n",
        "    title_re = re.compile(rf'<doc id=\"\\d+\" url=\"https://{lang}.wikipedia.org/wiki\\?curid=\\d+\" title=\"([^\"]+)\">')\n",
        "    lines = (path/name).open()\n",
        "    f=None\n",
        "\n",
        "    for i,l in enumerate(lines):\n",
        "        if i%100000 == 0: print(i)\n",
        "        if l.startswith('<doc id=\"'):\n",
        "            title = title_re.findall(l)[0].replace('/','_')\n",
        "            if len(title)>150: continue\n",
        "            if f: f.close()\n",
        "            f = (dest/f'{title}.txt').open('w')\n",
        "        else: f.write(l)\n",
        "    f.close()\n",
        "    return dest"
      ],
      "execution_count": 0,
      "outputs": []
    },
    {
      "cell_type": "code",
      "metadata": {
        "id": "V5NlXR04zSRu",
        "colab_type": "code",
        "outputId": "ecb08626-825e-4fcf-f7bf-8eea1d82c73a",
        "colab": {
          "base_uri": "https://localhost:8080/",
          "height": 73
        }
      },
      "source": [
        "get_wiki(path,lang)"
      ],
      "execution_count": 11,
      "outputs": [
        {
          "output_type": "stream",
          "text": [
            "downloading...\n"
          ],
          "name": "stdout"
        },
        {
          "output_type": "display_data",
          "data": {
            "text/html": [
              ""
            ],
            "text/plain": [
              "<IPython.core.display.HTML object>"
            ]
          },
          "metadata": {
            "tags": []
          }
        },
        {
          "output_type": "stream",
          "text": [
            "unzipping...\n",
            "extracting...\n"
          ],
          "name": "stdout"
        }
      ]
    },
    {
      "cell_type": "code",
      "metadata": {
        "id": "dSxCXgwSzSUl",
        "colab_type": "code",
        "outputId": "70d4231d-7c09-4b5f-9f5b-c3561097a430",
        "colab": {
          "base_uri": "https://localhost:8080/",
          "height": 110
        }
      },
      "source": [
        "path.ls()"
      ],
      "execution_count": 12,
      "outputs": [
        {
          "output_type": "execute_result",
          "data": {
            "text/plain": [
              "[PosixPath('/root/.fastai/data/bnwiki/wikiextractor'),\n",
              " PosixPath('/root/.fastai/data/bnwiki/bnwiki'),\n",
              " PosixPath('/root/.fastai/data/bnwiki/log'),\n",
              " PosixPath('/root/.fastai/data/bnwiki/bnwiki-latest-pages-articles.xml'),\n",
              " PosixPath('/root/.fastai/data/bnwiki/bnwiki-latest-pages-articles.xml.bz2')]"
            ]
          },
          "metadata": {
            "tags": []
          },
          "execution_count": 12
        }
      ]
    },
    {
      "cell_type": "code",
      "metadata": {
        "id": "0SREWiS_zSYA",
        "colab_type": "code",
        "outputId": "dbfbbb72-ee1c-4592-b74a-6f82a3230690",
        "colab": {
          "base_uri": "https://localhost:8080/",
          "height": 111
        }
      },
      "source": [
        "!head -n4 {path}/{name}"
      ],
      "execution_count": 13,
      "outputs": [
        {
          "output_type": "stream",
          "text": [
            "<doc id=\"608\" url=\"https://bn.wikipedia.org/wiki?curid=608\" title=\"বাংলা ভাষা\">\n",
            "বাংলা ভাষা\n",
            "\n",
            "বাংলা ভাষা (বাঙলা, বাঙ্গলা, তথা বাঙ্গালা নামগুলোতেও পরিচিত) একটি ইন্দো-আর্য ভাষা, যা দক্ষিণ এশিয়ার বাঙালি জাতির প্রধান কথ্য ও লেখ্য ভাষা। মাতৃভাষীর সংখ্যায় বাংলা ইন্দো-ইউরোপীয় ভাষা পরিবারের চতুর্থ ও বিশ্বের ষষ্ঠ বৃহত্তম ভাষা। মোট ব্যবহারকারীর সংখ্যা অনুসারে বাংলা বিশ্বের সপ্তম বৃহত্তম ভাষা। বাংলা সার্বভৌম ভাষাভিত্তিক জাতিরাষ্ট্র বাংলাদেশের একমাত্র রাষ্ট্রভাষা তথা সরকারি ভাষা এবং ভারতের পশ্চিমবঙ্গ, ত্রিপুরা, আসামের বরাক উপত্যকার সরকারি ভাষা। বঙ্গোপসাগরে অবস্থিত আন্দামান দ্বীপপুঞ্জের প্রধান কথ্য ভাষা বাংলা। এছাড়া ভারতের ঝাড়খণ্ড, বিহার, মেঘালয়, মিজোরাম, উড়িষ্যা রাজ্যগুলোতে উল্লেখযোগ্য পরিমাণে বাংলাভাষী জনগণ রয়েছে। ভারতে হিন্দির পরেই সর্বাধিক প্রচলিত ভাষা বাংলা। এছাড়াও মধ্য প্রাচ্য, আমেরিকা ও ইউরোপে উল্লেখযোগ্য পরিমাণে বাংলাভাষী অভিবাসী রয়েছে। সারা বিশ্বে সব মিলিয়ে ২৬ কোটির অধিক লোক দৈনন্দিন জীবনে বাংলা ব্যবহার করে। বাংলাদেশের জাতীয় সঙ্গীত এবং ভারতের জাতীয় সঙ্গীত ও স্তোত্র বাংলাতে রচিত।\n"
          ],
          "name": "stdout"
        }
      ]
    },
    {
      "cell_type": "code",
      "metadata": {
        "id": "4LZa2V5fzSPZ",
        "colab_type": "code",
        "outputId": "fe1825f3-b5da-4aa4-86b7-1e046b1ec6e1",
        "colab": {
          "base_uri": "https://localhost:8080/",
          "height": 91
        }
      },
      "source": [
        "dest = split_wiki(path,lang)"
      ],
      "execution_count": 14,
      "outputs": [
        {
          "output_type": "stream",
          "text": [
            "0\n",
            "100000\n",
            "200000\n",
            "300000\n"
          ],
          "name": "stdout"
        }
      ]
    },
    {
      "cell_type": "code",
      "metadata": {
        "id": "8XRpWDuGzSLb",
        "colab_type": "code",
        "outputId": "b1454de8-ae24-4904-8073-52d2e3df0648",
        "colab": {
          "base_uri": "https://localhost:8080/",
          "height": 110
        }
      },
      "source": [
        "dest.ls()[:5]"
      ],
      "execution_count": 15,
      "outputs": [
        {
          "output_type": "execute_result",
          "data": {
            "text/plain": [
              "[PosixPath('/root/.fastai/data/bnwiki/docs/পাবলিক নলেজ প্রজেক্ট.txt'),\n",
              " PosixPath('/root/.fastai/data/bnwiki/docs/মিউনিখ বিমান দুর্ঘটনা.txt'),\n",
              " PosixPath('/root/.fastai/data/bnwiki/docs/পৌষ সংক্রান্তি.txt'),\n",
              " PosixPath('/root/.fastai/data/bnwiki/docs/ল্যেভ তল্\\u200cস্তোয়.txt'),\n",
              " PosixPath('/root/.fastai/data/bnwiki/docs/অমল কুমার রায়চৌধুরী.txt')]"
            ]
          },
          "metadata": {
            "tags": []
          },
          "execution_count": 15
        }
      ]
    },
    {
      "cell_type": "code",
      "metadata": {
        "id": "m-nod7PnzSID",
        "colab_type": "code",
        "colab": {
          "base_uri": "https://localhost:8080/",
          "height": 17
        },
        "outputId": "09cac9e1-8eda-40c6-c94e-808aa4cf8ac5"
      },
      "source": [
        "data = (TextList.from_folder(dest)\n",
        "            .split_by_rand_pct(0.1, seed=42)\n",
        "            .label_for_lm()           \n",
        "            .databunch(bs=bs, num_workers=1))"
      ],
      "execution_count": 16,
      "outputs": [
        {
          "output_type": "display_data",
          "data": {
            "text/html": [
              ""
            ],
            "text/plain": [
              "<IPython.core.display.HTML object>"
            ]
          },
          "metadata": {
            "tags": []
          }
        },
        {
          "output_type": "display_data",
          "data": {
            "text/html": [
              ""
            ],
            "text/plain": [
              "<IPython.core.display.HTML object>"
            ]
          },
          "metadata": {
            "tags": []
          }
        }
      ]
    },
    {
      "cell_type": "code",
      "metadata": {
        "id": "7At5iHMl6Ta1",
        "colab_type": "code",
        "colab": {
          "base_uri": "https://localhost:8080/",
          "height": 293
        },
        "outputId": "f92ee6e6-693e-439e-82c6-99f5e7b6b2b5"
      },
      "source": [
        "data.show_batch()"
      ],
      "execution_count": 27,
      "outputs": [
        {
          "output_type": "display_data",
          "data": {
            "text/html": [
              "<table border=\"1\" class=\"dataframe\">\n",
              "  <thead>\n",
              "    <tr style=\"text-align: right;\">\n",
              "      <th>idx</th>\n",
              "      <th>text</th>\n",
              "    </tr>\n",
              "  </thead>\n",
              "  <tbody>\n",
              "    <tr>\n",
              "      <td>0</td>\n",
              "      <td>যমুনা নামে নামকরণ করা হয়েছে । \\n  xxunk ছাত্রদের জন্য চারটি লিফট , একটি সুসজ্জিত xxunk , একটি ডিপার্টমেন্টাল স্টোর , দুটি পাঠকক্ষ , একটি কম্পিউটার ল্যাব , একটি কাউন্সেলিং রুম , হল সংসদ কক্ষ ( স্থাপিত ২০১৯ ) , একটি সেলুন , একটি সুবিশাল হল অডিটোরিয়াম ও দূরদর্শন কক্ষ , xxunk হল শাখার রুম , একটি ইনডোর xxunk ( বর্তমানে ঢাকা বিশ্ববিদ্যালয়ের সবচেয়ে বড় xxunk নামে খ্যাত )</td>\n",
              "    </tr>\n",
              "    <tr>\n",
              "      <td>1</td>\n",
              "      <td>পাম্প চালানোর জন্য ব্যবহার করে আসছে । \\n \\n  চার্লস ফ্রান্সিস ব্রুস ( xxunk ১৯২৯ ) ১৮৮৭ - ৮৮ সালে একটি xxunk ( বায়ু টারবাইন ) নির্মাণ করেন যা একটা ব্যাটারী মাধ্যমে বিদ্যুতের উৎপাদনের জন্য xxunk xxunk xxunk । ১৮৯১ সালে ডেনিশ পদার্থবিজ্ঞানী এবং উদ্ভাবক পল লা xxunk প্রথম \" বায়ু xxunk \" পরীক্ষা করেন । ১৯০০ সালের কাছাকাছি তিনি বায়ু - চালিত xxunk প্লান্ট বিকাশ শুরু করেন ।</td>\n",
              "    </tr>\n",
              "    <tr>\n",
              "      <td>2</td>\n",
              "      <td>এবং সেখানে ইসলামী শিক্ষাব্যবস্থা প্রতিষ্ঠায় সাহায্য করেন । ১৮৮৪ সালে তিনি ফ্রান্সের প্যারিস যান এবং আফগানির xxmaj the xxmaj xxunk xxmaj bond ( আল xxunk আল xxunk ) নামক ইসলামী বিপ্লবী ধারার পত্রিকার প্রকাশনায় যুক্ত হন । এই পত্রিকাটি ব্রিটিশ বিরোধী মনোভাবকে প্রাধান্য দিত । তিনি ব্রিটেন যান এবং উচ্চপদস্থ কর্মকর্তাদের সাথে মিশর ও সুদান বিষয়ে আলোচনা করেন । ১৮৮৫ সালে তিনি বৈরুতে ফিরে আসেন বিভিন্ন ধর্মীয় মতাবলম্বী পন্ডিতদের দ্বারা</td>\n",
              "    </tr>\n",
              "    <tr>\n",
              "      <td>3</td>\n",
              "      <td>সালে ইসরায়েলী কমিউনিস্ট পার্টির পত্রিকা \" জো xxunk এক সাক্ষাৎকারে দারবিশ বলেছেন : \" সেই একটি রাত সবাইকে শরনার্থী বানিয়ে দেয় , xxunk আমি শরনার্থী ছিলাম । xxunk আমি শরনার্থী হয়ে আছি । \" এটা কোন কাব্যিক xxunk ছিল না । ইসরায়েলী রাষ্ট্রের প্রথম আদমশুমারিতে যে সব ফিলিস্তিনী অন্তর্ভুক্ত হয়নি , নতুন ইসরায়েলী সরকার তাদেরকে পরিচয় পত্র দেয়নি । তাদের চিহ্নিত করে অবৈধ অনুপ্রবেশকারী হিসেবে । ফলে xxunk মত অজস্র</td>\n",
              "    </tr>\n",
              "    <tr>\n",
              "      <td>4</td>\n",
              "      <td>চিঠিতে   xxunk   সাইটটির   প্রচার   করতে   বারণ   করা   হয়েছিল ,   কারণ   তিনি   আমেরিকান   লাইব্রেরি   অ্যাসোসিয়েশনের   একটি   অনুষ্ঠানে   সাইটটি   নিয়ে   কথা   বলেছিলেন ।   এর   পরিপ্রেক্ষিতে যথাযথ গবেষণা চাপা দেওয়ার জন্য   ওই প্রকাশক   গোষ্ঠীর   কড়া   নিন্দা   করা   হয় ,   এবং   এই   চিঠিটি</td>\n",
              "    </tr>\n",
              "  </tbody>\n",
              "</table>"
            ],
            "text/plain": [
              "<IPython.core.display.HTML object>"
            ]
          },
          "metadata": {
            "tags": []
          }
        }
      ]
    },
    {
      "cell_type": "code",
      "metadata": {
        "id": "tG72PyG4QcLf",
        "colab_type": "code",
        "colab": {}
      },
      "source": [
        ""
      ],
      "execution_count": 0,
      "outputs": []
    },
    {
      "cell_type": "code",
      "metadata": {
        "id": "hQgoTv3xQcJs",
        "colab_type": "code",
        "colab": {}
      },
      "source": [
        ""
      ],
      "execution_count": 0,
      "outputs": []
    },
    {
      "cell_type": "code",
      "metadata": {
        "id": "gb3gn9_TQcHj",
        "colab_type": "code",
        "colab": {}
      },
      "source": [
        ""
      ],
      "execution_count": 0,
      "outputs": []
    },
    {
      "cell_type": "code",
      "metadata": {
        "id": "vn_ptKOCzR8O",
        "colab_type": "code",
        "colab": {}
      },
      "source": [
        ""
      ],
      "execution_count": 0,
      "outputs": []
    }
  ]
}