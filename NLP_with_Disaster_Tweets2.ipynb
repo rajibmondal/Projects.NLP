{
  "nbformat": 4,
  "nbformat_minor": 0,
  "metadata": {
    "colab": {
      "name": "NLP with Disaster Tweets.ipynb",
      "provenance": [],
      "authorship_tag": "ABX9TyN4/3iMqA9qcxPW1txdE+N+",
      "include_colab_link": true
    },
    "kernelspec": {
      "name": "python3",
      "display_name": "Python 3"
    },
    "accelerator": "GPU"
  },
  "cells": [
    {
      "cell_type": "markdown",
      "metadata": {
        "id": "view-in-github",
        "colab_type": "text"
      },
      "source": [
        "<a href=\"https://colab.research.google.com/github/rajibmondal/Projects.NLP/blob/master/NLP_with_Disaster_Tweets2.ipynb\" target=\"_parent\"><img src=\"https://colab.research.google.com/assets/colab-badge.svg\" alt=\"Open In Colab\"/></a>"
      ]
    },
    {
      "cell_type": "code",
      "metadata": {
        "id": "L_u-bGOFcxke",
        "colab_type": "code",
        "outputId": "ec3d40d1-082b-48f8-8765-70c95bdcd894",
        "colab": {
          "base_uri": "https://localhost:8080/",
          "height": 36
        }
      },
      "source": [
        "import fastai\n",
        "fastai.__version__\n"
      ],
      "execution_count": 113,
      "outputs": [
        {
          "output_type": "execute_result",
          "data": {
            "text/plain": [
              "'1.0.60'"
            ]
          },
          "metadata": {
            "tags": []
          },
          "execution_count": 113
        }
      ]
    },
    {
      "cell_type": "code",
      "metadata": {
        "id": "L1c9TQmN-pVd",
        "colab_type": "code",
        "colab": {}
      },
      "source": [
        "%reload_ext autoreload\n",
        "%autoreload 2\n",
        "%matplotlib inline\n",
        "\n",
        "from fastai import *\n",
        "from fastai.text import *\n",
        "bs=128"
      ],
      "execution_count": 0,
      "outputs": []
    },
    {
      "cell_type": "code",
      "metadata": {
        "id": "OR9w1Nhi-qoi",
        "colab_type": "code",
        "outputId": "854f0242-8057-462b-f7c2-3318b9c69ef1",
        "colab": {
          "base_uri": "https://localhost:8080/",
          "height": 36
        }
      },
      "source": [
        "from google.colab import drive\n",
        "drive.mount('/content/drive')\n",
        "root_dir = '/content/drive/My Drive/NLP/NLP_DATA/ NLP with Disaster Tweets/'\n",
        "base_dir = root_dir #+ 'Disaster_NLP'"
      ],
      "execution_count": 115,
      "outputs": [
        {
          "output_type": "stream",
          "text": [
            "Drive already mounted at /content/drive; to attempt to forcibly remount, call drive.mount(\"/content/drive\", force_remount=True).\n"
          ],
          "name": "stdout"
        }
      ]
    },
    {
      "cell_type": "code",
      "metadata": {
        "id": "lwPfnJNM-qux",
        "colab_type": "code",
        "colab": {}
      },
      "source": [
        "base_dir = Path(base_dir)"
      ],
      "execution_count": 0,
      "outputs": []
    },
    {
      "cell_type": "code",
      "metadata": {
        "id": "S15mQJ_E_Zs1",
        "colab_type": "code",
        "outputId": "52587ffd-a727-4c72-8921-20450af2d564",
        "colab": {
          "base_uri": "https://localhost:8080/",
          "height": 36
        }
      },
      "source": [
        "# check if the dirctory exists if not make it\n",
        "import os\n",
        "if not (os.path.exists(base_dir)):\n",
        "  base_dir.mkdir(parents=True, exist_ok=True)\n",
        "base_dir"
      ],
      "execution_count": 117,
      "outputs": [
        {
          "output_type": "execute_result",
          "data": {
            "text/plain": [
              "PosixPath('/content/drive/My Drive/NLP/NLP_DATA/ NLP with Disaster Tweets')"
            ]
          },
          "metadata": {
            "tags": []
          },
          "execution_count": 117
        }
      ]
    },
    {
      "cell_type": "code",
      "metadata": {
        "id": "B3kfYcWt_Zqh",
        "colab_type": "code",
        "outputId": "2091f8e7-b68f-4b06-bc16-a78f30b1fa37",
        "colab": {
          "base_uri": "https://localhost:8080/",
          "height": 185
        }
      },
      "source": [
        "path = Path('/content/drive/My Drive/NLP/NLP_DATA/ NLP with Disaster Tweets')\n",
        "path.ls()"
      ],
      "execution_count": 118,
      "outputs": [
        {
          "output_type": "execute_result",
          "data": {
            "text/plain": [
              "[PosixPath('/content/drive/My Drive/NLP/NLP_DATA/ NLP with Disaster Tweets/train.csv'),\n",
              " PosixPath('/content/drive/My Drive/NLP/NLP_DATA/ NLP with Disaster Tweets/test.csv'),\n",
              " PosixPath('/content/drive/My Drive/NLP/NLP_DATA/ NLP with Disaster Tweets/clean_train.csv'),\n",
              " PosixPath('/content/drive/My Drive/NLP/NLP_DATA/ NLP with Disaster Tweets/NLP with Disaster Tweets.ipynb'),\n",
              " PosixPath('/content/drive/My Drive/NLP/NLP_DATA/ NLP with Disaster Tweets/clean_test.csv'),\n",
              " PosixPath('/content/drive/My Drive/NLP/NLP_DATA/ NLP with Disaster Tweets/models'),\n",
              " PosixPath('/content/drive/My Drive/NLP/NLP_DATA/ NLP with Disaster Tweets/data_lm.pkl'),\n",
              " PosixPath('/content/drive/My Drive/NLP/NLP_DATA/ NLP with Disaster Tweets/fit_head.pkl'),\n",
              " PosixPath('/content/drive/My Drive/NLP/NLP_DATA/ NLP with Disaster Tweets/data_cls.pkl')]"
            ]
          },
          "metadata": {
            "tags": []
          },
          "execution_count": 118
        }
      ]
    },
    {
      "cell_type": "code",
      "metadata": {
        "id": "C-T-u6iFSDZ5",
        "colab_type": "code",
        "outputId": "aab43813-5f5a-47fa-c28a-36020ca08ba0",
        "colab": {
          "base_uri": "https://localhost:8080/",
          "height": 206
        }
      },
      "source": [
        "df_full = pd.read_csv(path/'train.csv')\n",
        "df_full.head()"
      ],
      "execution_count": 119,
      "outputs": [
        {
          "output_type": "execute_result",
          "data": {
            "text/html": [
              "<div>\n",
              "<style scoped>\n",
              "    .dataframe tbody tr th:only-of-type {\n",
              "        vertical-align: middle;\n",
              "    }\n",
              "\n",
              "    .dataframe tbody tr th {\n",
              "        vertical-align: top;\n",
              "    }\n",
              "\n",
              "    .dataframe thead th {\n",
              "        text-align: right;\n",
              "    }\n",
              "</style>\n",
              "<table border=\"1\" class=\"dataframe\">\n",
              "  <thead>\n",
              "    <tr style=\"text-align: right;\">\n",
              "      <th></th>\n",
              "      <th>id</th>\n",
              "      <th>keyword</th>\n",
              "      <th>location</th>\n",
              "      <th>text</th>\n",
              "      <th>target</th>\n",
              "    </tr>\n",
              "  </thead>\n",
              "  <tbody>\n",
              "    <tr>\n",
              "      <th>0</th>\n",
              "      <td>1</td>\n",
              "      <td>NaN</td>\n",
              "      <td>NaN</td>\n",
              "      <td>Our Deeds are the Reason of this #earthquake M...</td>\n",
              "      <td>1</td>\n",
              "    </tr>\n",
              "    <tr>\n",
              "      <th>1</th>\n",
              "      <td>4</td>\n",
              "      <td>NaN</td>\n",
              "      <td>NaN</td>\n",
              "      <td>Forest fire near La Ronge Sask. Canada</td>\n",
              "      <td>1</td>\n",
              "    </tr>\n",
              "    <tr>\n",
              "      <th>2</th>\n",
              "      <td>5</td>\n",
              "      <td>NaN</td>\n",
              "      <td>NaN</td>\n",
              "      <td>All residents asked to 'shelter in place' are ...</td>\n",
              "      <td>1</td>\n",
              "    </tr>\n",
              "    <tr>\n",
              "      <th>3</th>\n",
              "      <td>6</td>\n",
              "      <td>NaN</td>\n",
              "      <td>NaN</td>\n",
              "      <td>13,000 people receive #wildfires evacuation or...</td>\n",
              "      <td>1</td>\n",
              "    </tr>\n",
              "    <tr>\n",
              "      <th>4</th>\n",
              "      <td>7</td>\n",
              "      <td>NaN</td>\n",
              "      <td>NaN</td>\n",
              "      <td>Just got sent this photo from Ruby #Alaska as ...</td>\n",
              "      <td>1</td>\n",
              "    </tr>\n",
              "  </tbody>\n",
              "</table>\n",
              "</div>"
            ],
            "text/plain": [
              "   id keyword  ...                                               text target\n",
              "0   1     NaN  ...  Our Deeds are the Reason of this #earthquake M...      1\n",
              "1   4     NaN  ...             Forest fire near La Ronge Sask. Canada      1\n",
              "2   5     NaN  ...  All residents asked to 'shelter in place' are ...      1\n",
              "3   6     NaN  ...  13,000 people receive #wildfires evacuation or...      1\n",
              "4   7     NaN  ...  Just got sent this photo from Ruby #Alaska as ...      1\n",
              "\n",
              "[5 rows x 5 columns]"
            ]
          },
          "metadata": {
            "tags": []
          },
          "execution_count": 119
        }
      ]
    },
    {
      "cell_type": "code",
      "metadata": {
        "id": "mERPVjlZ_Zm9",
        "colab_type": "code",
        "outputId": "ee028b7b-c64d-4a5d-d56f-1f88d55172c4",
        "colab": {
          "base_uri": "https://localhost:8080/",
          "height": 206
        }
      },
      "source": [
        "df = pd.read_csv(path/'clean_train.csv')\n",
        "df.head()\n"
      ],
      "execution_count": 120,
      "outputs": [
        {
          "output_type": "execute_result",
          "data": {
            "text/html": [
              "<div>\n",
              "<style scoped>\n",
              "    .dataframe tbody tr th:only-of-type {\n",
              "        vertical-align: middle;\n",
              "    }\n",
              "\n",
              "    .dataframe tbody tr th {\n",
              "        vertical-align: top;\n",
              "    }\n",
              "\n",
              "    .dataframe thead th {\n",
              "        text-align: right;\n",
              "    }\n",
              "</style>\n",
              "<table border=\"1\" class=\"dataframe\">\n",
              "  <thead>\n",
              "    <tr style=\"text-align: right;\">\n",
              "      <th></th>\n",
              "      <th>text</th>\n",
              "      <th>target</th>\n",
              "    </tr>\n",
              "  </thead>\n",
              "  <tbody>\n",
              "    <tr>\n",
              "      <th>0</th>\n",
              "      <td>Our Deeds are the Reason of this #earthquake M...</td>\n",
              "      <td>1</td>\n",
              "    </tr>\n",
              "    <tr>\n",
              "      <th>1</th>\n",
              "      <td>Forest fire near La Ronge Sask. Canada</td>\n",
              "      <td>1</td>\n",
              "    </tr>\n",
              "    <tr>\n",
              "      <th>2</th>\n",
              "      <td>All residents asked to 'shelter in place' are ...</td>\n",
              "      <td>1</td>\n",
              "    </tr>\n",
              "    <tr>\n",
              "      <th>3</th>\n",
              "      <td>13,000 people receive #wildfires evacuation or...</td>\n",
              "      <td>1</td>\n",
              "    </tr>\n",
              "    <tr>\n",
              "      <th>4</th>\n",
              "      <td>Just got sent this photo from Ruby #Alaska as ...</td>\n",
              "      <td>1</td>\n",
              "    </tr>\n",
              "  </tbody>\n",
              "</table>\n",
              "</div>"
            ],
            "text/plain": [
              "                                                text  target\n",
              "0  Our Deeds are the Reason of this #earthquake M...       1\n",
              "1             Forest fire near La Ronge Sask. Canada       1\n",
              "2  All residents asked to 'shelter in place' are ...       1\n",
              "3  13,000 people receive #wildfires evacuation or...       1\n",
              "4  Just got sent this photo from Ruby #Alaska as ...       1"
            ]
          },
          "metadata": {
            "tags": []
          },
          "execution_count": 120
        }
      ]
    },
    {
      "cell_type": "code",
      "metadata": {
        "id": "8YVDiTHcDb4s",
        "colab_type": "code",
        "outputId": "f6331ca7-c8e8-4e75-9fbe-cebd49f47379",
        "colab": {
          "base_uri": "https://localhost:8080/",
          "height": 17
        }
      },
      "source": [
        "data_clas = (TextList\n",
        "           .from_csv(path, 'train.csv', cols='text')\n",
        "           #Where are the text? Column 'text' of texts.csv\n",
        "           .split_by_rand_pct(0.1)\n",
        "           #How to split it? Randomly with the default 20% in valid\n",
        "           .label_from_df(cols='target')\n",
        "           #Label it for a language model\n",
        "           .databunch(bs=bs))\n",
        "           #Finally we convert to a DataBunch\n",
        "\n",
        "\n",
        "# # data_lm = (TextList.from_folder(path).filter_by_folder(include=['train','test'])\n",
        "# # .split_by_rand_pct(0.1, seed=42).label_for_lm().databunch(bs=bs, num_workers=1))\n",
        "\n",
        "# data_clas = (TextList\n",
        "#            .from_csv(path, 'clean_train.csv', cols='text')\n",
        "#            #Where are the text? Column 'text' of texts.csv\n",
        "#            .split_by_rand_pct()\n",
        "#            #How to split it? Randomly with the default 20% in valid\n",
        "#            .label_from_df(cols='target')\n",
        "#            #Label it for a language model\n",
        "#            .databunch(bs=bs))\n",
        "#            #Finally we convert to a DataBunch\n",
        "\n",
        "# data_clas.show_batch()\n",
        "\n",
        "\n",
        "\n",
        "\n"
      ],
      "execution_count": 121,
      "outputs": [
        {
          "output_type": "display_data",
          "data": {
            "text/html": [
              ""
            ],
            "text/plain": [
              "<IPython.core.display.HTML object>"
            ]
          },
          "metadata": {
            "tags": []
          }
        },
        {
          "output_type": "display_data",
          "data": {
            "text/html": [
              ""
            ],
            "text/plain": [
              "<IPython.core.display.HTML object>"
            ]
          },
          "metadata": {
            "tags": []
          }
        }
      ]
    },
    {
      "cell_type": "code",
      "metadata": {
        "id": "WYa2wxXFDdJ9",
        "colab_type": "code",
        "outputId": "ac74479f-38d1-4e45-ec69-089bf371aaf0",
        "colab": {
          "base_uri": "https://localhost:8080/",
          "height": 259
        }
      },
      "source": [
        "data_clas.show_batch()"
      ],
      "execution_count": 122,
      "outputs": [
        {
          "output_type": "display_data",
          "data": {
            "text/html": [
              "<table border=\"1\" class=\"dataframe\">\n",
              "  <thead>\n",
              "    <tr style=\"text-align: right;\">\n",
              "      <th>text</th>\n",
              "      <th>target</th>\n",
              "    </tr>\n",
              "  </thead>\n",
              "  <tbody>\n",
              "    <tr>\n",
              "      <td>xxbos _ \\n  xxrep 5 ? xxup xxunk \\n  xxrep 7 ? \\n  xxrep 5 ? xxup follow xxup all xxup who xxup rt \\n  xxrep 7 ? \\n  xxrep 5 ? xxup xxunk \\n  xxrep 7 ? \\n  xxrep 5 ? xxup gain xxup with \\n  xxrep 7 ? \\n  xxrep 5 ? xxup follow ? xxunk # xxup xxunk</td>\n",
              "      <td>0</td>\n",
              "    </tr>\n",
              "    <tr>\n",
              "      <td>xxbos . : . : . : . : . : . : . : . : . : . : . : . : . : . : . : . : . : . : . : . : . : xxup rt xxunk : # xxunk \\n \\n  xxmaj indian xxmaj army xxunk _ http : / / t.co / xxunk g</td>\n",
              "      <td>0</td>\n",
              "    </tr>\n",
              "    <tr>\n",
              "      <td>xxbos xxup info xxup s. xxup wnd : xxunk / 6 . xxup xxunk : xxup xxunk xxup xxunk . xxup exp xxup inst xxup apch . xxup rwy 05 . xxup curfew xxup in xxup oper xxup until 2030 xxup z. xxup taxiways xxup foxtrot 5 &amp; &amp; xxup foxtrot 6 xxup navbl . xxup tmp : 10 .</td>\n",
              "      <td>0</td>\n",
              "    </tr>\n",
              "    <tr>\n",
              "      <td>xxbos xxup info xxup xxunk xxup xxunk : xxup xxunk xxup xxunk . xxup exp xxup inst xxup apch . xxup rwy 05 . xxup curfew xxup in xxup oper xxup until 2030 xxup z. xxup taxiways xxup foxtrot 5 &amp; &amp; xxup foxtrot 6 xxup navbl . xxup tmp : 10 . xxup wnd : xxunk / 6 .</td>\n",
              "      <td>0</td>\n",
              "    </tr>\n",
              "    <tr>\n",
              "      <td>xxbos xxup info xxup r. xxup curfew xxup in xxup oper xxup until 2030 xxup z. xxup taxiways xxup foxtrot 5 &amp; &amp; xxup foxtrot 6 xxup navbl . xxup wnd : xxunk / 5 . xxup exp xxup inst xxup apch . xxup rwy 05 . xxup xxunk . xxup tmp : 10 . xxup xxunk : xxunk .</td>\n",
              "      <td>0</td>\n",
              "    </tr>\n",
              "  </tbody>\n",
              "</table>"
            ],
            "text/plain": [
              "<IPython.core.display.HTML object>"
            ]
          },
          "metadata": {
            "tags": []
          }
        }
      ]
    },
    {
      "cell_type": "code",
      "metadata": {
        "id": "cmS1tw53Ddbr",
        "colab_type": "code",
        "outputId": "9cd49ec7-7545-4f16-88f3-d1f6aa26df1d",
        "colab": {
          "base_uri": "https://localhost:8080/",
          "height": 203
        }
      },
      "source": [
        "data_clas.vocab.itos[:10]"
      ],
      "execution_count": 123,
      "outputs": [
        {
          "output_type": "execute_result",
          "data": {
            "text/plain": [
              "['xxunk',\n",
              " 'xxpad',\n",
              " 'xxbos',\n",
              " 'xxeos',\n",
              " 'xxfld',\n",
              " 'xxmaj',\n",
              " 'xxup',\n",
              " 'xxrep',\n",
              " 'xxwrep',\n",
              " '/']"
            ]
          },
          "metadata": {
            "tags": []
          },
          "execution_count": 123
        }
      ]
    },
    {
      "cell_type": "code",
      "metadata": {
        "id": "i83753Z3DdZ4",
        "colab_type": "code",
        "outputId": "014738a3-a671-420e-90f9-4c6f5eceb52d",
        "colab": {
          "base_uri": "https://localhost:8080/",
          "height": 1000
        }
      },
      "source": [
        "[(v, i) for i, v in enumerate(data_clas.vocab.stoi)][:100]"
      ],
      "execution_count": 124,
      "outputs": [
        {
          "output_type": "execute_result",
          "data": {
            "text/plain": [
              "[('xxunk', 0),\n",
              " ('xxpad', 1),\n",
              " ('xxbos', 2),\n",
              " ('xxeos', 3),\n",
              " ('xxfld', 4),\n",
              " ('xxmaj', 5),\n",
              " ('xxup', 6),\n",
              " ('xxrep', 7),\n",
              " ('xxwrep', 8),\n",
              " ('/', 9),\n",
              " (':', 10),\n",
              " ('t.co', 11),\n",
              " ('http', 12),\n",
              " ('#', 13),\n",
              " ('the', 14),\n",
              " ('.', 15),\n",
              " ('a', 16),\n",
              " ('in', 17),\n",
              " ('to', 18),\n",
              " ('of', 19),\n",
              " ('i', 20),\n",
              " ('?', 21),\n",
              " ('and', 22),\n",
              " ('-', 23),\n",
              " (\"'\", 24),\n",
              " ('!', 25),\n",
              " ('is', 26),\n",
              " ('...', 27),\n",
              " ('for', 28),\n",
              " ('you', 29),\n",
              " ('on', 30),\n",
              " (\"'s\", 31),\n",
              " ('it', 32),\n",
              " ('my', 33),\n",
              " ('that', 34),\n",
              " ('&', 35),\n",
              " ('\\n ', 36),\n",
              " ('with', 37),\n",
              " ('at', 38),\n",
              " ('by', 39),\n",
              " ('this', 40),\n",
              " (\"n't\", 41),\n",
              " ('from', 42),\n",
              " ('_', 43),\n",
              " ('are', 44),\n",
              " ('be', 45),\n",
              " ('https', 46),\n",
              " ('was', 47),\n",
              " ('have', 48),\n",
              " ('do', 49),\n",
              " ('4', 50),\n",
              " ('like', 51),\n",
              " ('as', 52),\n",
              " ('up', 53),\n",
              " ('me', 54),\n",
              " (')', 55),\n",
              " ('but', 56),\n",
              " ('(', 57),\n",
              " ('just', 58),\n",
              " ('so', 59),\n",
              " ('not', 60),\n",
              " ('your', 61),\n",
              " ('we', 62),\n",
              " ('out', 63),\n",
              " ('all', 64),\n",
              " ('no', 65),\n",
              " ('has', 66),\n",
              " ('after', 67),\n",
              " ('will', 68),\n",
              " ('fire', 69),\n",
              " ('an', 70),\n",
              " ('when', 71),\n",
              " (\"'m\", 72),\n",
              " ('if', 73),\n",
              " ('he', 74),\n",
              " ('what', 75),\n",
              " ('they', 76),\n",
              " ('new', 77),\n",
              " ('get', 78),\n",
              " ('now', 79),\n",
              " ('via', 80),\n",
              " ('more', 81),\n",
              " ('about', 82),\n",
              " ('or', 83),\n",
              " ('one', 84),\n",
              " ('people', 85),\n",
              " ('been', 86),\n",
              " ('there', 87),\n",
              " ('news', 88),\n",
              " ('who', 89),\n",
              " ('how', 90),\n",
              " ('over', 91),\n",
              " ('2', 92),\n",
              " ('\\n \\n ', 93),\n",
              " ('into', 94),\n",
              " ('can', 95),\n",
              " ('*', 96),\n",
              " ('video', 97),\n",
              " ('disaster', 98),\n",
              " ('emergency', 99)]"
            ]
          },
          "metadata": {
            "tags": []
          },
          "execution_count": 124
        }
      ]
    },
    {
      "cell_type": "code",
      "metadata": {
        "id": "eWplHOj-DdXh",
        "colab_type": "code",
        "outputId": "62ad9783-3d69-4be8-c6f5-98c849826645",
        "colab": {
          "base_uri": "https://localhost:8080/",
          "height": 74
        }
      },
      "source": [
        "data_clas.train_ds[100]"
      ],
      "execution_count": 125,
      "outputs": [
        {
          "output_type": "execute_result",
          "data": {
            "text/plain": [
              "(Text xxbos 320 [ xxup ir ] xxup icemoon [ xxup aftershock ] | http : / / t.co / xxunk | @djicemoon | # xxmaj dubstep # trapmusic # dnb # xxup edm # xxmaj dance # icesû _ http : / / t.co / xxunk,\n",
              " Category 0)"
            ]
          },
          "metadata": {
            "tags": []
          },
          "execution_count": 125
        }
      ]
    },
    {
      "cell_type": "code",
      "metadata": {
        "id": "FGz7hG_2DdVE",
        "colab_type": "code",
        "outputId": "424792e0-a365-4e4b-8b65-f20458626861",
        "colab": {
          "base_uri": "https://localhost:8080/",
          "height": 73
        }
      },
      "source": [
        "data_clas.train_ds[100][0].data[:100]"
      ],
      "execution_count": 126,
      "outputs": [
        {
          "output_type": "execute_result",
          "data": {
            "text/plain": [
              "array([   2, 1794,  105,    6, 1795,  107,    6, 1796,  105,    6,  854,  107,  101,   12,   10,    9,    9,   11,\n",
              "          9,    0,  101, 1797,  101,   13,    5, 1637,   13, 1798,   13, 1638,   13,    6, 1303,   13,    5, 1085,\n",
              "         13, 1799,   43,   12,   10,    9,    9,   11,    9,    0])"
            ]
          },
          "metadata": {
            "tags": []
          },
          "execution_count": 126
        }
      ]
    },
    {
      "cell_type": "code",
      "metadata": {
        "id": "bCXh1iupCjMG",
        "colab_type": "code",
        "outputId": "916c7b3f-4569-418d-b662-76f99dbf3e47",
        "colab": {
          "base_uri": "https://localhost:8080/",
          "height": 54
        }
      },
      "source": [
        "%time\n",
        "data_lm = (TextList\n",
        "           .from_csv(path, 'train.csv', cols='text')\n",
        "           #Where are the text? Column 'text' of texts.csv\n",
        "           .split_by_rand_pct(0.1)\n",
        "           #How to split it? Randomly with the default 20% in valid\n",
        "           .label_for_lm()#from_df(cols='target')\n",
        "           #Label it for a language model\n",
        "           .databunch(bs=bs))\n",
        "           #Finally we convert to a DataBunch\n",
        "\n",
        "# data_lm = (TextList.from_csv(path,'clean_train.csv')\n",
        "#            #Inputs: all the text files in path\n",
        "#             .filter_by_csv(include=['clean_train.csv']) \n",
        "#            #We may have other temp folders that contain text files so we only keep what's in train and test\n",
        "#             .split_by_rand_pct(0.1)\n",
        "#            #We randomly split and keep 10% (10,000 reviews) for validation\n",
        "#             .label_for_lm()           \n",
        "#            #We want to do a language model so we label accordingly\n",
        "#             .databunch(bs=bs))\n",
        "# data_lm.save('data1_lm.pkl')\n",
        "\n",
        "# %time\n",
        "# data = (TextList\n",
        "#            .from_csv(path, 'clean_train.csv', cols='text')\n",
        "#            #Where are the text? Column 'text' of texts.csv\n",
        "#            .split_by_rand_pct(0.1)\n",
        "#            #How to split it? Randomly with the default 20% in valid\n",
        "#            .label_for_lm()#from_df(cols='target')\n",
        "#            #Label it for a language model\n",
        "#            .databunch(bs=bs))\n",
        "#            #Finally we convert to a DataBunch\n",
        "\n",
        "\n",
        "\n",
        "\n",
        "\n",
        "\n"
      ],
      "execution_count": 127,
      "outputs": [
        {
          "output_type": "stream",
          "text": [
            "CPU times: user 1e+03 ns, sys: 1e+03 ns, total: 2 µs\n",
            "Wall time: 5.96 µs\n"
          ],
          "name": "stdout"
        },
        {
          "output_type": "display_data",
          "data": {
            "text/html": [
              ""
            ],
            "text/plain": [
              "<IPython.core.display.HTML object>"
            ]
          },
          "metadata": {
            "tags": []
          }
        },
        {
          "output_type": "display_data",
          "data": {
            "text/html": [
              ""
            ],
            "text/plain": [
              "<IPython.core.display.HTML object>"
            ]
          },
          "metadata": {
            "tags": []
          }
        }
      ]
    },
    {
      "cell_type": "code",
      "metadata": {
        "id": "_lWxvtiZTCt4",
        "colab_type": "code",
        "outputId": "196993e9-ab66-4684-80f2-7bf618d87969",
        "colab": {
          "base_uri": "https://localhost:8080/",
          "height": 293
        }
      },
      "source": [
        "data_lm.show_batch()"
      ],
      "execution_count": 128,
      "outputs": [
        {
          "output_type": "display_data",
          "data": {
            "text/html": [
              "<table border=\"1\" class=\"dataframe\">\n",
              "  <thead>\n",
              "    <tr style=\"text-align: right;\">\n",
              "      <th>idx</th>\n",
              "      <th>text</th>\n",
              "    </tr>\n",
              "  </thead>\n",
              "  <tbody>\n",
              "    <tr>\n",
              "      <td>0</td>\n",
              "      <td>orders in xxmaj california xxbos xxmaj just got sent this photo from xxmaj xxunk # xxmaj alaska as smoke from # wildfires xxunk into a school xxbos # rockyfire xxmaj update = &gt; xxmaj california xxmaj hwy . 20 closed in both xxunk due to xxmaj lake xxmaj county fire - # xxunk # wildfires xxbos # flood # disaster xxmaj heavy rain causes flash flooding of streets in xxmaj</td>\n",
              "    </tr>\n",
              "    <tr>\n",
              "      <td>1</td>\n",
              "      <td>an xxunk vehicle . xxmaj please use ... http : / / t.co / xxunk xxbos xxunk xxmaj live xxmaj accident xxmaj xxunk xxbos xxup rt xxunk : xxmaj sleeping xxunk double your risk of a car accident http : / / t.co / xxunk xxbos ' xxmaj by accident ' they knew what was gon happen https : / / t.co / xxunk xxbos xxmaj traffic accident n xxup</td>\n",
              "    </tr>\n",
              "    <tr>\n",
              "      <td>2</td>\n",
              "      <td>xxmaj god that we have xxunk that tells it like it is ! ! ! # now # xxunk # xxunk https : / / t.co / xxunk xxbos ' xxmaj remembering that you are going to die is the best way i know to avoid the trap of thinking you have something to lose . ' xxup ûò xxmaj steve xxmaj jobs xxbos xxmaj tried orange aftershock today .</td>\n",
              "    </tr>\n",
              "    <tr>\n",
              "      <td>3</td>\n",
              "      <td>/ t.co / xxunk xxbos xxunk xxunk xxunk are you ok do you need medical assistance i can call an ambulance if you need me to xxbos xxup xxunk : xxup ny xxunk petition for $ 17 per hour xxunk xxunk http : / / t.co / xxunk # ems # xxunk # ambulance xxbos http : / / t.co / xxunk xxmaj twelve feared killed in xxmaj pakistani air</td>\n",
              "    </tr>\n",
              "    <tr>\n",
              "      <td>4</td>\n",
              "      <td>/ / t.co / xxunk via @change xxbos xxup u.s xxmaj national xxmaj park xxmaj services xxmaj tonto xxmaj national xxmaj forest : xxmaj stop the xxmaj annihilation of the xxmaj salt xxmaj river xxmaj wild xxmaj horse ... https : / / t.co / xxunk via @change xxbos xxunk can you please sign and share this petition to save wild horses in xxmaj arizona . http : / /</td>\n",
              "    </tr>\n",
              "  </tbody>\n",
              "</table>"
            ],
            "text/plain": [
              "<IPython.core.display.HTML object>"
            ]
          },
          "metadata": {
            "tags": []
          }
        }
      ]
    },
    {
      "cell_type": "code",
      "metadata": {
        "id": "1_9yxjhsCjRK",
        "colab_type": "code",
        "outputId": "a41d0625-a3b2-47ba-de83-809412ad9c8c",
        "colab": {
          "base_uri": "https://localhost:8080/",
          "height": 54
        }
      },
      "source": [
        "%%time\n",
        "data_lm.save(base_dir/'data_lm.pkl')"
      ],
      "execution_count": 129,
      "outputs": [
        {
          "output_type": "stream",
          "text": [
            "CPU times: user 121 ms, sys: 9.56 ms, total: 130 ms\n",
            "Wall time: 139 ms\n"
          ],
          "name": "stdout"
        }
      ]
    },
    {
      "cell_type": "code",
      "metadata": {
        "id": "eqfAgeXqCjdi",
        "colab_type": "code",
        "colab": {}
      },
      "source": [
        "data_lm = load_data(base_dir, 'data_lm.pkl', bs=bs)"
      ],
      "execution_count": 0,
      "outputs": []
    },
    {
      "cell_type": "code",
      "metadata": {
        "id": "OauolZkQCjbE",
        "colab_type": "code",
        "outputId": "25e48c2f-8486-4353-c8d1-8c283e8649b1",
        "colab": {
          "base_uri": "https://localhost:8080/",
          "height": 293
        }
      },
      "source": [
        "data_lm.show_batch()"
      ],
      "execution_count": 131,
      "outputs": [
        {
          "output_type": "display_data",
          "data": {
            "text/html": [
              "<table border=\"1\" class=\"dataframe\">\n",
              "  <thead>\n",
              "    <tr style=\"text-align: right;\">\n",
              "      <th>idx</th>\n",
              "      <th>text</th>\n",
              "    </tr>\n",
              "  </thead>\n",
              "  <tbody>\n",
              "    <tr>\n",
              "      <td>0</td>\n",
              "      <td>orders in xxmaj california xxbos xxmaj just got sent this photo from xxmaj xxunk # xxmaj alaska as smoke from # wildfires xxunk into a school xxbos # rockyfire xxmaj update = &gt; xxmaj california xxmaj hwy . 20 closed in both xxunk due to xxmaj lake xxmaj county fire - # xxunk # wildfires xxbos # flood # disaster xxmaj heavy rain causes flash flooding of streets in xxmaj</td>\n",
              "    </tr>\n",
              "    <tr>\n",
              "      <td>1</td>\n",
              "      <td>an xxunk vehicle . xxmaj please use ... http : / / t.co / xxunk xxbos xxunk xxmaj live xxmaj accident xxmaj xxunk xxbos xxup rt xxunk : xxmaj sleeping xxunk double your risk of a car accident http : / / t.co / xxunk xxbos ' xxmaj by accident ' they knew what was gon happen https : / / t.co / xxunk xxbos xxmaj traffic accident n xxup</td>\n",
              "    </tr>\n",
              "    <tr>\n",
              "      <td>2</td>\n",
              "      <td>xxmaj god that we have xxunk that tells it like it is ! ! ! # now # xxunk # xxunk https : / / t.co / xxunk xxbos ' xxmaj remembering that you are going to die is the best way i know to avoid the trap of thinking you have something to lose . ' xxup ûò xxmaj steve xxmaj jobs xxbos xxmaj tried orange aftershock today .</td>\n",
              "    </tr>\n",
              "    <tr>\n",
              "      <td>3</td>\n",
              "      <td>/ t.co / xxunk xxbos xxunk xxunk xxunk are you ok do you need medical assistance i can call an ambulance if you need me to xxbos xxup xxunk : xxup ny xxunk petition for $ 17 per hour xxunk xxunk http : / / t.co / xxunk # ems # xxunk # ambulance xxbos http : / / t.co / xxunk xxmaj twelve feared killed in xxmaj pakistani air</td>\n",
              "    </tr>\n",
              "    <tr>\n",
              "      <td>4</td>\n",
              "      <td>/ / t.co / xxunk via @change xxbos xxup u.s xxmaj national xxmaj park xxmaj services xxmaj tonto xxmaj national xxmaj forest : xxmaj stop the xxmaj annihilation of the xxmaj salt xxmaj river xxmaj wild xxmaj horse ... https : / / t.co / xxunk via @change xxbos xxunk can you please sign and share this petition to save wild horses in xxmaj arizona . http : / /</td>\n",
              "    </tr>\n",
              "  </tbody>\n",
              "</table>"
            ],
            "text/plain": [
              "<IPython.core.display.HTML object>"
            ]
          },
          "metadata": {
            "tags": []
          }
        }
      ]
    },
    {
      "cell_type": "markdown",
      "metadata": {
        "id": "GQDPo5fTL7Fe",
        "colab_type": "text"
      },
      "source": [
        "##Training a Language Model with Transer Learning"
      ]
    },
    {
      "cell_type": "code",
      "metadata": {
        "id": "vx3Q6uL8CjXd",
        "colab_type": "code",
        "colab": {}
      },
      "source": [
        "# drop_mult speifies the amount of dropout to apply\n",
        "learn = language_model_learner(data_lm, arch=AWD_LSTM, drop_mult=0.9)"
      ],
      "execution_count": 0,
      "outputs": []
    },
    {
      "cell_type": "code",
      "metadata": {
        "id": "93rBIQijL9We",
        "colab_type": "code",
        "outputId": "2f48fcc9-8884-4c53-dd57-31ddb993945f",
        "colab": {
          "base_uri": "https://localhost:8080/",
          "height": 502
        }
      },
      "source": [
        "learn.lr_find()\n",
        "# skip the last 15 learning rates in the plot so we can get a better visualization\n",
        "learn.recorder.plot(skip_end=15)"
      ],
      "execution_count": 135,
      "outputs": [
        {
          "output_type": "display_data",
          "data": {
            "text/html": [
              "\n",
              "    <div>\n",
              "        <style>\n",
              "            /* Turns off some styling */\n",
              "            progress {\n",
              "                /* gets rid of default border in Firefox and Opera. */\n",
              "                border: none;\n",
              "                /* Needs to be in here for Safari polyfill so background images work as expected. */\n",
              "                background-size: auto;\n",
              "            }\n",
              "            .progress-bar-interrupted, .progress-bar-interrupted::-webkit-progress-bar {\n",
              "                background: #F44336;\n",
              "            }\n",
              "        </style>\n",
              "      <progress value='4' class='' max='5', style='width:300px; height:20px; vertical-align: middle;'></progress>\n",
              "      80.00% [4/5 00:16<00:04]\n",
              "    </div>\n",
              "    \n",
              "<table border=\"1\" class=\"dataframe\">\n",
              "  <thead>\n",
              "    <tr style=\"text-align: left;\">\n",
              "      <th>epoch</th>\n",
              "      <th>train_loss</th>\n",
              "      <th>valid_loss</th>\n",
              "      <th>accuracy</th>\n",
              "      <th>time</th>\n",
              "    </tr>\n",
              "  </thead>\n",
              "  <tbody>\n",
              "    <tr>\n",
              "      <td>0</td>\n",
              "      <td>5.587903</td>\n",
              "      <td>#na#</td>\n",
              "      <td>00:04</td>\n",
              "    </tr>\n",
              "    <tr>\n",
              "      <td>1</td>\n",
              "      <td>5.574828</td>\n",
              "      <td>#na#</td>\n",
              "      <td>00:04</td>\n",
              "    </tr>\n",
              "    <tr>\n",
              "      <td>2</td>\n",
              "      <td>5.459979</td>\n",
              "      <td>#na#</td>\n",
              "      <td>00:04</td>\n",
              "    </tr>\n",
              "    <tr>\n",
              "      <td>3</td>\n",
              "      <td>4.857927</td>\n",
              "      <td>#na#</td>\n",
              "      <td>00:04</td>\n",
              "    </tr>\n",
              "  </tbody>\n",
              "</table><p>\n",
              "\n",
              "    <div>\n",
              "        <style>\n",
              "            /* Turns off some styling */\n",
              "            progress {\n",
              "                /* gets rid of default border in Firefox and Opera. */\n",
              "                border: none;\n",
              "                /* Needs to be in here for Safari polyfill so background images work as expected. */\n",
              "                background-size: auto;\n",
              "            }\n",
              "            .progress-bar-interrupted, .progress-bar-interrupted::-webkit-progress-bar {\n",
              "                background: #F44336;\n",
              "            }\n",
              "        </style>\n",
              "      <progress value='15' class='' max='21', style='width:300px; height:20px; vertical-align: middle;'></progress>\n",
              "      71.43% [15/21 00:02<00:01 8.4124]\n",
              "    </div>\n",
              "    "
            ],
            "text/plain": [
              "<IPython.core.display.HTML object>"
            ]
          },
          "metadata": {
            "tags": []
          }
        },
        {
          "output_type": "stream",
          "text": [
            "LR Finder is complete, type {learner_name}.recorder.plot() to see the graph.\n"
          ],
          "name": "stdout"
        },
        {
          "output_type": "display_data",
          "data": {
            "image/png": "[encoded data removed]",
            "text/plain": [
              "<Figure size 432x288 with 1 Axes>"
            ]
          },
          "metadata": {
            "tags": []
          }
        }
      ]
    },
    {
      "cell_type": "code",
      "metadata": {
        "id": "BhjoAJTqL9js",
        "colab_type": "code",
        "outputId": "c7a15359-cfbd-4f33-cb92-eb251a4f7ed1",
        "colab": {
          "base_uri": "https://localhost:8080/",
          "height": 279
        }
      },
      "source": [
        "learn.recorder.plot()"
      ],
      "execution_count": 136,
      "outputs": [
        {
          "output_type": "display_data",
          "data": {
            "image/png": "[encoded data removed]",
            "text/plain": [
              "<Figure size 432x288 with 1 Axes>"
            ]
          },
          "metadata": {
            "tags": []
          }
        }
      ]
    },
    {
      "cell_type": "code",
      "metadata": {
        "id": "JO2s2wuGL9hZ",
        "colab_type": "code",
        "outputId": "09820a1f-81bb-4e48-efb4-fa4a07fc653b",
        "colab": {
          "base_uri": "https://localhost:8080/",
          "height": 81
        }
      },
      "source": [
        "learn.fit_one_cycle(1, 1e-01, moms=(0.8, 0.7))"
      ],
      "execution_count": 137,
      "outputs": [
        {
          "output_type": "display_data",
          "data": {
            "text/html": [
              "<table border=\"1\" class=\"dataframe\">\n",
              "  <thead>\n",
              "    <tr style=\"text-align: left;\">\n",
              "      <th>epoch</th>\n",
              "      <th>train_loss</th>\n",
              "      <th>valid_loss</th>\n",
              "      <th>accuracy</th>\n",
              "      <th>time</th>\n",
              "    </tr>\n",
              "  </thead>\n",
              "  <tbody>\n",
              "    <tr>\n",
              "      <td>0</td>\n",
              "      <td>4.169517</td>\n",
              "      <td>3.319146</td>\n",
              "      <td>0.431064</td>\n",
              "      <td>00:04</td>\n",
              "    </tr>\n",
              "  </tbody>\n",
              "</table>"
            ],
            "text/plain": [
              "<IPython.core.display.HTML object>"
            ]
          },
          "metadata": {
            "tags": []
          }
        }
      ]
    },
    {
      "cell_type": "code",
      "metadata": {
        "id": "1CYJtN_ZL9fG",
        "colab_type": "code",
        "outputId": "1088e7b3-04e2-43ae-dca3-d8b3a3f948ca",
        "colab": {
          "base_uri": "https://localhost:8080/",
          "height": 54
        }
      },
      "source": [
        "%%time\n",
        "learn.export(base_dir/'fit_head.pkl')"
      ],
      "execution_count": 138,
      "outputs": [
        {
          "output_type": "stream",
          "text": [
            "CPU times: user 86.2 ms, sys: 58.9 ms, total: 145 ms\n",
            "Wall time: 325 ms\n"
          ],
          "name": "stdout"
        }
      ]
    },
    {
      "cell_type": "code",
      "metadata": {
        "id": "z8jq907_L9ci",
        "colab_type": "code",
        "outputId": "e6ab9531-62db-4d75-8f7e-2ca73d58c67d",
        "colab": {
          "base_uri": "https://localhost:8080/",
          "height": 17
        }
      },
      "source": [
        "learn = load_learner(base_dir, 'fit_head.pkl')"
      ],
      "execution_count": 139,
      "outputs": [
        {
          "output_type": "display_data",
          "data": {
            "text/html": [
              ""
            ],
            "text/plain": [
              "<IPython.core.display.HTML object>"
            ]
          },
          "metadata": {
            "tags": []
          }
        },
        {
          "output_type": "display_data",
          "data": {
            "text/html": [
              ""
            ],
            "text/plain": [
              "<IPython.core.display.HTML object>"
            ]
          },
          "metadata": {
            "tags": []
          }
        }
      ]
    },
    {
      "cell_type": "code",
      "metadata": {
        "id": "Sf6cPSlu-2fY",
        "colab_type": "code",
        "colab": {}
      },
      "source": [
        "learn.data = data_lm"
      ],
      "execution_count": 0,
      "outputs": []
    },
    {
      "cell_type": "code",
      "metadata": {
        "id": "dKy9sV1DCjVu",
        "colab_type": "code",
        "colab": {}
      },
      "source": [
        "learn.unfreeze()"
      ],
      "execution_count": 0,
      "outputs": []
    },
    {
      "cell_type": "code",
      "metadata": {
        "id": "lmJstMVOCjEn",
        "colab_type": "code",
        "outputId": "b81d460a-4041-4e16-f279-683cab77cfaf",
        "colab": {
          "base_uri": "https://localhost:8080/",
          "height": 539
        }
      },
      "source": [
        "learn.lr_find()\n",
        "learn.recorder.plot(suggestion=True)"
      ],
      "execution_count": 142,
      "outputs": [
        {
          "output_type": "display_data",
          "data": {
            "text/html": [
              "\n",
              "    <div>\n",
              "        <style>\n",
              "            /* Turns off some styling */\n",
              "            progress {\n",
              "                /* gets rid of default border in Firefox and Opera. */\n",
              "                border: none;\n",
              "                /* Needs to be in here for Safari polyfill so background images work as expected. */\n",
              "                background-size: auto;\n",
              "            }\n",
              "            .progress-bar-interrupted, .progress-bar-interrupted::-webkit-progress-bar {\n",
              "                background: #F44336;\n",
              "            }\n",
              "        </style>\n",
              "      <progress value='4' class='' max='5', style='width:300px; height:20px; vertical-align: middle;'></progress>\n",
              "      80.00% [4/5 00:17<00:04]\n",
              "    </div>\n",
              "    \n",
              "<table border=\"1\" class=\"dataframe\">\n",
              "  <thead>\n",
              "    <tr style=\"text-align: left;\">\n",
              "      <th>epoch</th>\n",
              "      <th>train_loss</th>\n",
              "      <th>valid_loss</th>\n",
              "      <th>accuracy</th>\n",
              "      <th>time</th>\n",
              "    </tr>\n",
              "  </thead>\n",
              "  <tbody>\n",
              "    <tr>\n",
              "      <td>0</td>\n",
              "      <td>3.414765</td>\n",
              "      <td>#na#</td>\n",
              "      <td>00:04</td>\n",
              "    </tr>\n",
              "    <tr>\n",
              "      <td>1</td>\n",
              "      <td>3.393415</td>\n",
              "      <td>#na#</td>\n",
              "      <td>00:04</td>\n",
              "    </tr>\n",
              "    <tr>\n",
              "      <td>2</td>\n",
              "      <td>3.273627</td>\n",
              "      <td>#na#</td>\n",
              "      <td>00:04</td>\n",
              "    </tr>\n",
              "    <tr>\n",
              "      <td>3</td>\n",
              "      <td>3.989233</td>\n",
              "      <td>#na#</td>\n",
              "      <td>00:04</td>\n",
              "    </tr>\n",
              "  </tbody>\n",
              "</table><p>\n",
              "\n",
              "    <div>\n",
              "        <style>\n",
              "            /* Turns off some styling */\n",
              "            progress {\n",
              "                /* gets rid of default border in Firefox and Opera. */\n",
              "                border: none;\n",
              "                /* Needs to be in here for Safari polyfill so background images work as expected. */\n",
              "                background-size: auto;\n",
              "            }\n",
              "            .progress-bar-interrupted, .progress-bar-interrupted::-webkit-progress-bar {\n",
              "                background: #F44336;\n",
              "            }\n",
              "        </style>\n",
              "      <progress value='12' class='' max='21', style='width:300px; height:20px; vertical-align: middle;'></progress>\n",
              "      57.14% [12/21 00:02<00:01 10.7222]\n",
              "    </div>\n",
              "    "
            ],
            "text/plain": [
              "<IPython.core.display.HTML object>"
            ]
          },
          "metadata": {
            "tags": []
          }
        },
        {
          "output_type": "stream",
          "text": [
            "LR Finder is complete, type {learner_name}.recorder.plot() to see the graph.\n",
            "Min numerical gradient: 1.10E-02\n",
            "Min loss divided by 10: 3.31E-03\n"
          ],
          "name": "stdout"
        },
        {
          "output_type": "display_data",
          "data": {
            "image/png": "[encoded data removed]",
            "text/plain": [
              "<Figure size 432x288 with 1 Axes>"
            ]
          },
          "metadata": {
            "tags": []
          }
        }
      ]
    },
    {
      "cell_type": "code",
      "metadata": {
        "id": "SJQAp_Y8CjBB",
        "colab_type": "code",
        "outputId": "8a96f25c-4b60-47ba-dfbd-8148cdab5056",
        "colab": {
          "base_uri": "https://localhost:8080/",
          "height": 316
        }
      },
      "source": [
        "learn.recorder.plot(suggestion=True, skip_end=30)"
      ],
      "execution_count": 143,
      "outputs": [
        {
          "output_type": "stream",
          "text": [
            "Min numerical gradient: 1.10E-02\n",
            "Min loss divided by 10: 1.91E-03\n"
          ],
          "name": "stdout"
        },
        {
          "output_type": "display_data",
          "data": {
            "image/png": "[encoded data removed]",
            "text/plain": [
              "<Figure size 432x288 with 1 Axes>"
            ]
          },
          "metadata": {
            "tags": []
          }
        }
      ]
    },
    {
      "cell_type": "code",
      "metadata": {
        "id": "e2tq40P4M5Uq",
        "colab_type": "code",
        "colab": {}
      },
      "source": [
        "from fastai.callbacks import *\n",
        "import os\n",
        "os.chdir(base_dir)"
      ],
      "execution_count": 0,
      "outputs": []
    },
    {
      "cell_type": "code",
      "metadata": {
        "id": "ltFLN5SvM5m8",
        "colab_type": "code",
        "colab": {}
      },
      "source": [
        "callbacks = [SaveModelCallback(learn, every='epoch', monitor='valid_loss', mode='auto', name='fine_tuned')]"
      ],
      "execution_count": 0,
      "outputs": []
    },
    {
      "cell_type": "code",
      "metadata": {
        "id": "Lu048fw7M5k1",
        "colab_type": "code",
        "outputId": "4d14c5ce-2c16-4a91-97dc-3177a2124854",
        "colab": {
          "base_uri": "https://localhost:8080/",
          "height": 426
        }
      },
      "source": [
        "learn.fit_one_cycle(12, 1e-02, moms=(0.8, 0.7), callbacks=callbacks)"
      ],
      "execution_count": 146,
      "outputs": [
        {
          "output_type": "display_data",
          "data": {
            "text/html": [
              "<table border=\"1\" class=\"dataframe\">\n",
              "  <thead>\n",
              "    <tr style=\"text-align: left;\">\n",
              "      <th>epoch</th>\n",
              "      <th>train_loss</th>\n",
              "      <th>valid_loss</th>\n",
              "      <th>accuracy</th>\n",
              "      <th>time</th>\n",
              "    </tr>\n",
              "  </thead>\n",
              "  <tbody>\n",
              "    <tr>\n",
              "      <td>0</td>\n",
              "      <td>3.199459</td>\n",
              "      <td>3.087694</td>\n",
              "      <td>0.458036</td>\n",
              "      <td>00:04</td>\n",
              "    </tr>\n",
              "    <tr>\n",
              "      <td>1</td>\n",
              "      <td>3.103745</td>\n",
              "      <td>3.153282</td>\n",
              "      <td>0.448661</td>\n",
              "      <td>00:04</td>\n",
              "    </tr>\n",
              "    <tr>\n",
              "      <td>2</td>\n",
              "      <td>2.954933</td>\n",
              "      <td>2.953674</td>\n",
              "      <td>0.481287</td>\n",
              "      <td>00:04</td>\n",
              "    </tr>\n",
              "    <tr>\n",
              "      <td>3</td>\n",
              "      <td>2.768963</td>\n",
              "      <td>3.038449</td>\n",
              "      <td>0.470722</td>\n",
              "      <td>00:04</td>\n",
              "    </tr>\n",
              "    <tr>\n",
              "      <td>4</td>\n",
              "      <td>2.572201</td>\n",
              "      <td>3.000978</td>\n",
              "      <td>0.489621</td>\n",
              "      <td>00:04</td>\n",
              "    </tr>\n",
              "    <tr>\n",
              "      <td>5</td>\n",
              "      <td>2.320499</td>\n",
              "      <td>3.040688</td>\n",
              "      <td>0.492783</td>\n",
              "      <td>00:04</td>\n",
              "    </tr>\n",
              "    <tr>\n",
              "      <td>6</td>\n",
              "      <td>2.077672</td>\n",
              "      <td>3.118961</td>\n",
              "      <td>0.491778</td>\n",
              "      <td>00:04</td>\n",
              "    </tr>\n",
              "    <tr>\n",
              "      <td>7</td>\n",
              "      <td>1.824805</td>\n",
              "      <td>3.173474</td>\n",
              "      <td>0.496615</td>\n",
              "      <td>00:04</td>\n",
              "    </tr>\n",
              "    <tr>\n",
              "      <td>8</td>\n",
              "      <td>1.557958</td>\n",
              "      <td>3.252979</td>\n",
              "      <td>0.497731</td>\n",
              "      <td>00:04</td>\n",
              "    </tr>\n",
              "    <tr>\n",
              "      <td>9</td>\n",
              "      <td>1.331881</td>\n",
              "      <td>3.323830</td>\n",
              "      <td>0.496466</td>\n",
              "      <td>00:04</td>\n",
              "    </tr>\n",
              "    <tr>\n",
              "      <td>10</td>\n",
              "      <td>1.160940</td>\n",
              "      <td>3.342352</td>\n",
              "      <td>0.497396</td>\n",
              "      <td>00:04</td>\n",
              "    </tr>\n",
              "    <tr>\n",
              "      <td>11</td>\n",
              "      <td>1.034895</td>\n",
              "      <td>3.339703</td>\n",
              "      <td>0.497619</td>\n",
              "      <td>00:04</td>\n",
              "    </tr>\n",
              "  </tbody>\n",
              "</table>"
            ],
            "text/plain": [
              "<IPython.core.display.HTML object>"
            ]
          },
          "metadata": {
            "tags": []
          }
        }
      ]
    },
    {
      "cell_type": "code",
      "metadata": {
        "id": "R1yWBUV3M5i6",
        "colab_type": "code",
        "outputId": "52f1f39e-219f-4d7b-f184-9a8310ff46ee",
        "colab": {
          "base_uri": "https://localhost:8080/",
          "height": 352
        }
      },
      "source": [
        "(base_dir/'models').ls()"
      ],
      "execution_count": 147,
      "outputs": [
        {
          "output_type": "execute_result",
          "data": {
            "text/plain": [
              "[PosixPath('/content/drive/My Drive/NLP/NLP_DATA/ NLP with Disaster Tweets/models/clas-first.pth'),\n",
              " PosixPath('/content/drive/My Drive/NLP/NLP_DATA/ NLP with Disaster Tweets/models/fine_tuned_0.pth'),\n",
              " PosixPath('/content/drive/My Drive/NLP/NLP_DATA/ NLP with Disaster Tweets/models/fine_tuned_1.pth'),\n",
              " PosixPath('/content/drive/My Drive/NLP/NLP_DATA/ NLP with Disaster Tweets/models/fine_tuned_2.pth'),\n",
              " PosixPath('/content/drive/My Drive/NLP/NLP_DATA/ NLP with Disaster Tweets/models/fine_tuned_3.pth'),\n",
              " PosixPath('/content/drive/My Drive/NLP/NLP_DATA/ NLP with Disaster Tweets/models/fine_tuned_4.pth'),\n",
              " PosixPath('/content/drive/My Drive/NLP/NLP_DATA/ NLP with Disaster Tweets/models/fine_tuned_6.pth'),\n",
              " PosixPath('/content/drive/My Drive/NLP/NLP_DATA/ NLP with Disaster Tweets/models/fine_tuned_5.pth'),\n",
              " PosixPath('/content/drive/My Drive/NLP/NLP_DATA/ NLP with Disaster Tweets/models/fine_tuned_7.pth'),\n",
              " PosixPath('/content/drive/My Drive/NLP/NLP_DATA/ NLP with Disaster Tweets/models/fine_tuned_8.pth'),\n",
              " PosixPath('/content/drive/My Drive/NLP/NLP_DATA/ NLP with Disaster Tweets/models/fine_tuned_9.pth'),\n",
              " PosixPath('/content/drive/My Drive/NLP/NLP_DATA/ NLP with Disaster Tweets/models/fine_tuned_10.pth'),\n",
              " PosixPath('/content/drive/My Drive/NLP/NLP_DATA/ NLP with Disaster Tweets/models/fine_tuned_11.pth'),\n",
              " PosixPath('/content/drive/My Drive/NLP/NLP_DATA/ NLP with Disaster Tweets/models/lm_fine_tuned_enc.pth'),\n",
              " PosixPath('/content/drive/My Drive/NLP/NLP_DATA/ NLP with Disaster Tweets/models/tmp.pth'),\n",
              " PosixPath('/content/drive/My Drive/NLP/NLP_DATA/ NLP with Disaster Tweets/models/first.pth'),\n",
              " PosixPath('/content/drive/My Drive/NLP/NLP_DATA/ NLP with Disaster Tweets/models/second.pth'),\n",
              " PosixPath('/content/drive/My Drive/NLP/NLP_DATA/ NLP with Disaster Tweets/models/third.pth')]"
            ]
          },
          "metadata": {
            "tags": []
          },
          "execution_count": 147
        }
      ]
    },
    {
      "cell_type": "code",
      "metadata": {
        "id": "VEF4ua7JM5g5",
        "colab_type": "code",
        "colab": {}
      },
      "source": [
        "learn.load('fine_tuned_10');"
      ],
      "execution_count": 0,
      "outputs": []
    },
    {
      "cell_type": "markdown",
      "metadata": {
        "id": "NjrgiwsROxdp",
        "colab_type": "text"
      },
      "source": [
        "##Language Model Prediction"
      ]
    },
    {
      "cell_type": "code",
      "metadata": {
        "id": "ckyGD66SOmZ6",
        "colab_type": "code",
        "colab": {}
      },
      "source": [
        "WORD = 'The fire'\n",
        "# how many next words do we want to predict\n",
        "NUM_OF_NEW_WORDS = 20\n",
        "# Specify the number of sentences that the model can make using the WORD as a starter\n",
        "NUM_OF_SENTENCES = 2"
      ],
      "execution_count": 0,
      "outputs": []
    },
    {
      "cell_type": "code",
      "metadata": {
        "id": "hXidhvS2OmoW",
        "colab_type": "code",
        "outputId": "3c05558c-e78d-4b8a-c269-02eea4206824",
        "colab": {
          "base_uri": "https://localhost:8080/",
          "height": 54
        }
      },
      "source": [
        "print('\\n'.join(learn.predict(WORD, NUM_OF_NEW_WORDS, temperature=0.60) for _ in range(NUM_OF_SENTENCES)))"
      ],
      "execution_count": 150,
      "outputs": [
        {
          "output_type": "stream",
          "text": [
            "The fire alarm reported on Twitter today http : / / t.co / qew4c5m1xd View and download video xxbos\n",
            "The fire alarm service and evacuation for across the area xxbos On the 2nd year the officer team running the club\n"
          ],
          "name": "stdout"
        }
      ]
    },
    {
      "cell_type": "code",
      "metadata": {
        "id": "5YKixc9wOm0M",
        "colab_type": "code",
        "outputId": "f0c5463a-c132-4f4d-887f-5574dbc11fc1",
        "colab": {
          "base_uri": "https://localhost:8080/",
          "height": 54
        }
      },
      "source": [
        "%%time\n",
        "learn.save_encoder('lm_fine_tuned_enc')"
      ],
      "execution_count": 151,
      "outputs": [
        {
          "output_type": "stream",
          "text": [
            "CPU times: user 35.5 ms, sys: 47.8 ms, total: 83.2 ms\n",
            "Wall time: 257 ms\n"
          ],
          "name": "stdout"
        }
      ]
    },
    {
      "cell_type": "code",
      "metadata": {
        "id": "6sC5E9oCOm9c",
        "colab_type": "code",
        "outputId": "a9429a82-20f5-4965-e9fe-888adf2153da",
        "colab": {
          "base_uri": "https://localhost:8080/",
          "height": 352
        }
      },
      "source": [
        "(base_dir/'models').ls()"
      ],
      "execution_count": 152,
      "outputs": [
        {
          "output_type": "execute_result",
          "data": {
            "text/plain": [
              "[PosixPath('/content/drive/My Drive/NLP/NLP_DATA/ NLP with Disaster Tweets/models/clas-first.pth'),\n",
              " PosixPath('/content/drive/My Drive/NLP/NLP_DATA/ NLP with Disaster Tweets/models/fine_tuned_0.pth'),\n",
              " PosixPath('/content/drive/My Drive/NLP/NLP_DATA/ NLP with Disaster Tweets/models/fine_tuned_1.pth'),\n",
              " PosixPath('/content/drive/My Drive/NLP/NLP_DATA/ NLP with Disaster Tweets/models/fine_tuned_2.pth'),\n",
              " PosixPath('/content/drive/My Drive/NLP/NLP_DATA/ NLP with Disaster Tweets/models/fine_tuned_3.pth'),\n",
              " PosixPath('/content/drive/My Drive/NLP/NLP_DATA/ NLP with Disaster Tweets/models/fine_tuned_4.pth'),\n",
              " PosixPath('/content/drive/My Drive/NLP/NLP_DATA/ NLP with Disaster Tweets/models/fine_tuned_6.pth'),\n",
              " PosixPath('/content/drive/My Drive/NLP/NLP_DATA/ NLP with Disaster Tweets/models/fine_tuned_5.pth'),\n",
              " PosixPath('/content/drive/My Drive/NLP/NLP_DATA/ NLP with Disaster Tweets/models/fine_tuned_7.pth'),\n",
              " PosixPath('/content/drive/My Drive/NLP/NLP_DATA/ NLP with Disaster Tweets/models/fine_tuned_8.pth'),\n",
              " PosixPath('/content/drive/My Drive/NLP/NLP_DATA/ NLP with Disaster Tweets/models/fine_tuned_9.pth'),\n",
              " PosixPath('/content/drive/My Drive/NLP/NLP_DATA/ NLP with Disaster Tweets/models/fine_tuned_10.pth'),\n",
              " PosixPath('/content/drive/My Drive/NLP/NLP_DATA/ NLP with Disaster Tweets/models/fine_tuned_11.pth'),\n",
              " PosixPath('/content/drive/My Drive/NLP/NLP_DATA/ NLP with Disaster Tweets/models/lm_fine_tuned_enc.pth'),\n",
              " PosixPath('/content/drive/My Drive/NLP/NLP_DATA/ NLP with Disaster Tweets/models/tmp.pth'),\n",
              " PosixPath('/content/drive/My Drive/NLP/NLP_DATA/ NLP with Disaster Tweets/models/first.pth'),\n",
              " PosixPath('/content/drive/My Drive/NLP/NLP_DATA/ NLP with Disaster Tweets/models/second.pth'),\n",
              " PosixPath('/content/drive/My Drive/NLP/NLP_DATA/ NLP with Disaster Tweets/models/third.pth')]"
            ]
          },
          "metadata": {
            "tags": []
          },
          "execution_count": 152
        }
      ]
    },
    {
      "cell_type": "code",
      "metadata": {
        "id": "m0ckFz0-U22c",
        "colab_type": "code",
        "outputId": "719ef35d-f92e-4bc8-b16b-a080a3926b2a",
        "colab": {
          "base_uri": "https://localhost:8080/",
          "height": 36
        }
      },
      "source": [
        "data_lm.train_ds.vocab"
      ],
      "execution_count": 153,
      "outputs": [
        {
          "output_type": "execute_result",
          "data": {
            "text/plain": [
              "<fastai.text.transform.Vocab at 0x7f4de5aa3da0>"
            ]
          },
          "metadata": {
            "tags": []
          },
          "execution_count": 153
        }
      ]
    },
    {
      "cell_type": "code",
      "metadata": {
        "id": "O9UKoDs0Om7E",
        "colab_type": "code",
        "outputId": "bcb2c01a-b658-4249-cb87-e5b82e9a3264",
        "colab": {
          "base_uri": "https://localhost:8080/",
          "height": 36
        }
      },
      "source": [
        "# let's see the number of unique words from disaster tweet that are in our vocab\n",
        "len(data_lm.vocab.itos)"
      ],
      "execution_count": 154,
      "outputs": [
        {
          "output_type": "execute_result",
          "data": {
            "text/plain": [
              "4232"
            ]
          },
          "metadata": {
            "tags": []
          },
          "execution_count": 154
        }
      ]
    },
    {
      "cell_type": "code",
      "metadata": {
        "id": "5TYdIb2aVTdL",
        "colab_type": "code",
        "outputId": "8ae04965-8d09-4c63-f5e1-82da09e46682",
        "colab": {
          "base_uri": "https://localhost:8080/",
          "height": 185
        }
      },
      "source": [
        "path.ls()"
      ],
      "execution_count": 155,
      "outputs": [
        {
          "output_type": "execute_result",
          "data": {
            "text/plain": [
              "[PosixPath('/content/drive/My Drive/NLP/NLP_DATA/ NLP with Disaster Tweets/train.csv'),\n",
              " PosixPath('/content/drive/My Drive/NLP/NLP_DATA/ NLP with Disaster Tweets/test.csv'),\n",
              " PosixPath('/content/drive/My Drive/NLP/NLP_DATA/ NLP with Disaster Tweets/clean_train.csv'),\n",
              " PosixPath('/content/drive/My Drive/NLP/NLP_DATA/ NLP with Disaster Tweets/NLP with Disaster Tweets.ipynb'),\n",
              " PosixPath('/content/drive/My Drive/NLP/NLP_DATA/ NLP with Disaster Tweets/clean_test.csv'),\n",
              " PosixPath('/content/drive/My Drive/NLP/NLP_DATA/ NLP with Disaster Tweets/models'),\n",
              " PosixPath('/content/drive/My Drive/NLP/NLP_DATA/ NLP with Disaster Tweets/data_lm.pkl'),\n",
              " PosixPath('/content/drive/My Drive/NLP/NLP_DATA/ NLP with Disaster Tweets/fit_head.pkl'),\n",
              " PosixPath('/content/drive/My Drive/NLP/NLP_DATA/ NLP with Disaster Tweets/data_cls.pkl')]"
            ]
          },
          "metadata": {
            "tags": []
          },
          "execution_count": 155
        }
      ]
    },
    {
      "cell_type": "code",
      "metadata": {
        "id": "WQF2Bw1gVCYT",
        "colab_type": "code",
        "outputId": "4b968950-22b0-4782-ffcd-c38f5b6ef845",
        "colab": {
          "base_uri": "https://localhost:8080/",
          "height": 17
        }
      },
      "source": [
        "data_cls = (TextList.from_csv(path, csv_name='train.csv', cols='text',vocab=data_lm.vocab)\n",
        ".split_by_rand_pct(valid_pct=0.2, seed=42)\n",
        ".label_from_df(cols='target')\n",
        ".add_test(TextList.from_csv(path, csv_name='test.csv', cols='text'))\n",
        ".databunch(bs=bs))\n",
        "\n",
        "data_cls.save(base_dir/'data_cls.pkl')\n",
        "\n",
        "# data_clas = (TextList\n",
        "#            .from_csv(path, vocab=data_lm.vocab,'clean_train.csv')#, cols='text')\n",
        "#            #Where are the text? Column 'text' of texts.csv\n",
        "#            .split_by_rand_pct(0.1)\n",
        "#            #How to split it? Randomly with the default 20% in valid\n",
        "#            .label_from_df(cols='target')\n",
        "#            #Label it for a language model\n",
        "#            .databunch(bs=bs))\n",
        "#            #Finally we convert to a DataBunch\n",
        "\n",
        "\n",
        "# # data_clas.save(base_dir/'data_clas.pkl')"
      ],
      "execution_count": 156,
      "outputs": [
        {
          "output_type": "display_data",
          "data": {
            "text/html": [
              ""
            ],
            "text/plain": [
              "<IPython.core.display.HTML object>"
            ]
          },
          "metadata": {
            "tags": []
          }
        },
        {
          "output_type": "display_data",
          "data": {
            "text/html": [
              ""
            ],
            "text/plain": [
              "<IPython.core.display.HTML object>"
            ]
          },
          "metadata": {
            "tags": []
          }
        },
        {
          "output_type": "display_data",
          "data": {
            "text/html": [
              ""
            ],
            "text/plain": [
              "<IPython.core.display.HTML object>"
            ]
          },
          "metadata": {
            "tags": []
          }
        }
      ]
    },
    {
      "cell_type": "code",
      "metadata": {
        "id": "i_tw9q6OcIkQ",
        "colab_type": "code",
        "colab": {}
      },
      "source": [
        "data_cls = load_data(base_dir, 'data_cls.pkl', bs=bs)"
      ],
      "execution_count": 0,
      "outputs": []
    },
    {
      "cell_type": "code",
      "metadata": {
        "id": "Bdtxx_pWR6tQ",
        "colab_type": "code",
        "colab": {}
      },
      "source": [
        "cls_learn = text_classifier_learner(data_cls, AWD_LSTM, drop_mult=0.9)"
      ],
      "execution_count": 0,
      "outputs": []
    },
    {
      "cell_type": "code",
      "metadata": {
        "id": "X7FSzXlKADbs",
        "colab_type": "code",
        "colab": {}
      },
      "source": [
        "cls_learn.load_encoder('lm_fine_tuned_enc');"
      ],
      "execution_count": 0,
      "outputs": []
    },
    {
      "cell_type": "code",
      "metadata": {
        "id": "DBP82PiTADpg",
        "colab_type": "code",
        "outputId": "e48bccd8-3238-4f47-ffc3-a158a5e0556f",
        "colab": {
          "base_uri": "https://localhost:8080/",
          "height": 445
        }
      },
      "source": [
        "cls_learn.lr_find()\n",
        "cls_learn.recorder.plot(suggestion=True)"
      ],
      "execution_count": 160,
      "outputs": [
        {
          "output_type": "display_data",
          "data": {
            "text/html": [
              "\n",
              "    <div>\n",
              "        <style>\n",
              "            /* Turns off some styling */\n",
              "            progress {\n",
              "                /* gets rid of default border in Firefox and Opera. */\n",
              "                border: none;\n",
              "                /* Needs to be in here for Safari polyfill so background images work as expected. */\n",
              "                background-size: auto;\n",
              "            }\n",
              "            .progress-bar-interrupted, .progress-bar-interrupted::-webkit-progress-bar {\n",
              "                background: #F44336;\n",
              "            }\n",
              "        </style>\n",
              "      <progress value='1' class='' max='3', style='width:300px; height:20px; vertical-align: middle;'></progress>\n",
              "      33.33% [1/3 00:04<00:08]\n",
              "    </div>\n",
              "    \n",
              "<table border=\"1\" class=\"dataframe\">\n",
              "  <thead>\n",
              "    <tr style=\"text-align: left;\">\n",
              "      <th>epoch</th>\n",
              "      <th>train_loss</th>\n",
              "      <th>valid_loss</th>\n",
              "      <th>accuracy</th>\n",
              "      <th>time</th>\n",
              "    </tr>\n",
              "  </thead>\n",
              "  <tbody>\n",
              "    <tr>\n",
              "      <td>0</td>\n",
              "      <td>0.743653</td>\n",
              "      <td>#na#</td>\n",
              "      <td>00:04</td>\n",
              "    </tr>\n",
              "  </tbody>\n",
              "</table><p>\n",
              "\n",
              "    <div>\n",
              "        <style>\n",
              "            /* Turns off some styling */\n",
              "            progress {\n",
              "                /* gets rid of default border in Firefox and Opera. */\n",
              "                border: none;\n",
              "                /* Needs to be in here for Safari polyfill so background images work as expected. */\n",
              "                background-size: auto;\n",
              "            }\n",
              "            .progress-bar-interrupted, .progress-bar-interrupted::-webkit-progress-bar {\n",
              "                background: #F44336;\n",
              "            }\n",
              "        </style>\n",
              "      <progress value='46' class='' max='47', style='width:300px; height:20px; vertical-align: middle;'></progress>\n",
              "      97.87% [46/47 00:03<00:00 1.6522]\n",
              "    </div>\n",
              "    "
            ],
            "text/plain": [
              "<IPython.core.display.HTML object>"
            ]
          },
          "metadata": {
            "tags": []
          }
        },
        {
          "output_type": "stream",
          "text": [
            "LR Finder is complete, type {learner_name}.recorder.plot() to see the graph.\n",
            "Min numerical gradient: 1.10E-02\n",
            "Min loss divided by 10: 3.02E-02\n"
          ],
          "name": "stdout"
        },
        {
          "output_type": "display_data",
          "data": {
            "image/png": "[encoded data removed]",
            "text/plain": [
              "<Figure size 432x288 with 1 Axes>"
            ]
          },
          "metadata": {
            "tags": []
          }
        }
      ]
    },
    {
      "cell_type": "code",
      "metadata": {
        "id": "rRkY_3QMADua",
        "colab_type": "code",
        "outputId": "e978e032-f949-437b-f0fa-4f5b5ce4b43c",
        "colab": {
          "base_uri": "https://localhost:8080/",
          "height": 81
        }
      },
      "source": [
        "cls_learn.fit_one_cycle(1, 1e-02, moms=(0.8, 0.7))"
      ],
      "execution_count": 161,
      "outputs": [
        {
          "output_type": "display_data",
          "data": {
            "text/html": [
              "<table border=\"1\" class=\"dataframe\">\n",
              "  <thead>\n",
              "    <tr style=\"text-align: left;\">\n",
              "      <th>epoch</th>\n",
              "      <th>train_loss</th>\n",
              "      <th>valid_loss</th>\n",
              "      <th>accuracy</th>\n",
              "      <th>time</th>\n",
              "    </tr>\n",
              "  </thead>\n",
              "  <tbody>\n",
              "    <tr>\n",
              "      <td>0</td>\n",
              "      <td>0.566765</td>\n",
              "      <td>0.479836</td>\n",
              "      <td>0.783180</td>\n",
              "      <td>00:04</td>\n",
              "    </tr>\n",
              "  </tbody>\n",
              "</table>"
            ],
            "text/plain": [
              "<IPython.core.display.HTML object>"
            ]
          },
          "metadata": {
            "tags": []
          }
        }
      ]
    },
    {
      "cell_type": "code",
      "metadata": {
        "id": "5j5suIPBAHmj",
        "colab_type": "code",
        "colab": {}
      },
      "source": [
        "cls_learn.save('first')"
      ],
      "execution_count": 0,
      "outputs": []
    },
    {
      "cell_type": "code",
      "metadata": {
        "id": "qD2SasApAH6F",
        "colab_type": "code",
        "colab": {}
      },
      "source": [
        "cls_learn.load('first');"
      ],
      "execution_count": 0,
      "outputs": []
    },
    {
      "cell_type": "code",
      "metadata": {
        "id": "7PtRIo4PCAe3",
        "colab_type": "code",
        "colab": {}
      },
      "source": [
        "cls_learn.freeze_to(-2)\n",
        "cls_learn.fit_one_cycle(1, slice(1e-2/(2.6**4),1e-2), moms=(0.8,0.7))"
      ],
      "execution_count": 0,
      "outputs": []
    },
    {
      "cell_type": "code",
      "metadata": {
        "id": "WdFVa31QCDlm",
        "colab_type": "code",
        "colab": {}
      },
      "source": [
        "cls_learn.save('second')"
      ],
      "execution_count": 0,
      "outputs": []
    },
    {
      "cell_type": "code",
      "metadata": {
        "id": "fSal14urCDwy",
        "colab_type": "code",
        "colab": {}
      },
      "source": [
        "cls_learn.load('second');"
      ],
      "execution_count": 0,
      "outputs": []
    },
    {
      "cell_type": "code",
      "metadata": {
        "id": "2b4SDjccCpCM",
        "colab_type": "code",
        "outputId": "806fc42c-e363-4036-a0ac-ef5545c66ad0",
        "colab": {
          "base_uri": "https://localhost:8080/",
          "height": 81
        }
      },
      "source": [
        "cls_learn.freeze_to(-3)\n",
        "cls_learn.fit_one_cycle(1, slice(5e-3/(2.6**4),5e-3), moms=(0.8,0.7))"
      ],
      "execution_count": 166,
      "outputs": [
        {
          "output_type": "display_data",
          "data": {
            "text/html": [
              "<table border=\"1\" class=\"dataframe\">\n",
              "  <thead>\n",
              "    <tr style=\"text-align: left;\">\n",
              "      <th>epoch</th>\n",
              "      <th>train_loss</th>\n",
              "      <th>valid_loss</th>\n",
              "      <th>accuracy</th>\n",
              "      <th>time</th>\n",
              "    </tr>\n",
              "  </thead>\n",
              "  <tbody>\n",
              "    <tr>\n",
              "      <td>0</td>\n",
              "      <td>0.512644</td>\n",
              "      <td>0.442735</td>\n",
              "      <td>0.800263</td>\n",
              "      <td>00:04</td>\n",
              "    </tr>\n",
              "  </tbody>\n",
              "</table>"
            ],
            "text/plain": [
              "<IPython.core.display.HTML object>"
            ]
          },
          "metadata": {
            "tags": []
          }
        }
      ]
    },
    {
      "cell_type": "code",
      "metadata": {
        "id": "pJLm6kqUCpMu",
        "colab_type": "code",
        "colab": {}
      },
      "source": [
        "cls_learn.save('third')"
      ],
      "execution_count": 0,
      "outputs": []
    },
    {
      "cell_type": "code",
      "metadata": {
        "id": "9iPd_6y0CpYY",
        "colab_type": "code",
        "colab": {}
      },
      "source": [
        "cls_learn.load('third');"
      ],
      "execution_count": 0,
      "outputs": []
    },
    {
      "cell_type": "code",
      "metadata": {
        "id": "VPyhsFMXCpV7",
        "colab_type": "code",
        "outputId": "c9c82642-a26c-4326-a182-7ce5b23e0c99",
        "colab": {
          "base_uri": "https://localhost:8080/",
          "height": 489
        }
      },
      "source": [
        "cls_learn.unfreeze()\n",
        "cls_learn.fit_one_cycle(14, slice(1e-3/(2.6**4),1e-3), moms=(0.8,0.7))"
      ],
      "execution_count": 170,
      "outputs": [
        {
          "output_type": "display_data",
          "data": {
            "text/html": [
              "<table border=\"1\" class=\"dataframe\">\n",
              "  <thead>\n",
              "    <tr style=\"text-align: left;\">\n",
              "      <th>epoch</th>\n",
              "      <th>train_loss</th>\n",
              "      <th>valid_loss</th>\n",
              "      <th>accuracy</th>\n",
              "      <th>time</th>\n",
              "    </tr>\n",
              "  </thead>\n",
              "  <tbody>\n",
              "    <tr>\n",
              "      <td>0</td>\n",
              "      <td>0.442025</td>\n",
              "      <td>0.442027</td>\n",
              "      <td>0.808804</td>\n",
              "      <td>00:04</td>\n",
              "    </tr>\n",
              "    <tr>\n",
              "      <td>1</td>\n",
              "      <td>0.445733</td>\n",
              "      <td>0.439372</td>\n",
              "      <td>0.815374</td>\n",
              "      <td>00:04</td>\n",
              "    </tr>\n",
              "    <tr>\n",
              "      <td>2</td>\n",
              "      <td>0.439390</td>\n",
              "      <td>0.436887</td>\n",
              "      <td>0.812089</td>\n",
              "      <td>00:04</td>\n",
              "    </tr>\n",
              "    <tr>\n",
              "      <td>3</td>\n",
              "      <td>0.441600</td>\n",
              "      <td>0.434006</td>\n",
              "      <td>0.816689</td>\n",
              "      <td>00:04</td>\n",
              "    </tr>\n",
              "    <tr>\n",
              "      <td>4</td>\n",
              "      <td>0.432403</td>\n",
              "      <td>0.439956</td>\n",
              "      <td>0.818003</td>\n",
              "      <td>00:04</td>\n",
              "    </tr>\n",
              "    <tr>\n",
              "      <td>5</td>\n",
              "      <td>0.419120</td>\n",
              "      <td>0.438914</td>\n",
              "      <td>0.814717</td>\n",
              "      <td>00:04</td>\n",
              "    </tr>\n",
              "    <tr>\n",
              "      <td>6</td>\n",
              "      <td>0.417171</td>\n",
              "      <td>0.436673</td>\n",
              "      <td>0.820631</td>\n",
              "      <td>00:04</td>\n",
              "    </tr>\n",
              "    <tr>\n",
              "      <td>7</td>\n",
              "      <td>0.413528</td>\n",
              "      <td>0.435145</td>\n",
              "      <td>0.812089</td>\n",
              "      <td>00:04</td>\n",
              "    </tr>\n",
              "    <tr>\n",
              "      <td>8</td>\n",
              "      <td>0.407141</td>\n",
              "      <td>0.436868</td>\n",
              "      <td>0.810118</td>\n",
              "      <td>00:04</td>\n",
              "    </tr>\n",
              "    <tr>\n",
              "      <td>9</td>\n",
              "      <td>0.405153</td>\n",
              "      <td>0.437790</td>\n",
              "      <td>0.811432</td>\n",
              "      <td>00:04</td>\n",
              "    </tr>\n",
              "    <tr>\n",
              "      <td>10</td>\n",
              "      <td>0.405521</td>\n",
              "      <td>0.437971</td>\n",
              "      <td>0.810775</td>\n",
              "      <td>00:04</td>\n",
              "    </tr>\n",
              "    <tr>\n",
              "      <td>11</td>\n",
              "      <td>0.404383</td>\n",
              "      <td>0.438709</td>\n",
              "      <td>0.814060</td>\n",
              "      <td>00:04</td>\n",
              "    </tr>\n",
              "    <tr>\n",
              "      <td>12</td>\n",
              "      <td>0.392971</td>\n",
              "      <td>0.440232</td>\n",
              "      <td>0.818660</td>\n",
              "      <td>00:04</td>\n",
              "    </tr>\n",
              "    <tr>\n",
              "      <td>13</td>\n",
              "      <td>0.395996</td>\n",
              "      <td>0.438813</td>\n",
              "      <td>0.814060</td>\n",
              "      <td>00:04</td>\n",
              "    </tr>\n",
              "  </tbody>\n",
              "</table>"
            ],
            "text/plain": [
              "<IPython.core.display.HTML object>"
            ]
          },
          "metadata": {
            "tags": []
          }
        }
      ]
    }
  ]
}